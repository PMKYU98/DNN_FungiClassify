{
 "cells": [
  {
   "cell_type": "code",
   "execution_count": 1,
   "id": "4dbdf7d3-6923-4802-9040-1954ebcddf3a",
   "metadata": {},
   "outputs": [],
   "source": [
    "import pandas as pd\n",
    "from tqdm import tqdm\n",
    "import numpy as np"
   ]
  },
  {
   "cell_type": "code",
   "execution_count": 2,
   "id": "76c7f2cd-5baf-4af7-a3b3-4bfcc0e9b5ea",
   "metadata": {},
   "outputs": [],
   "source": [
    "import math"
   ]
  },
  {
   "cell_type": "code",
   "execution_count": 3,
   "id": "c50924a9-2163-46c8-9beb-ae8236c45321",
   "metadata": {},
   "outputs": [],
   "source": [
    "optimal = [\"species_RESNET18_benA_4mer_32,64,256,7\",\n",
    "  \"species_RESNET18_common_4mer_32,64,256,7\"]"
   ]
  },
  {
   "cell_type": "code",
   "execution_count": 4,
   "id": "fcaadf43-cad1-4286-a56d-6b8789a59c0e",
   "metadata": {},
   "outputs": [],
   "source": [
    "def parse_epoch_file(file_path):\n",
    "    epoch_data = []\n",
    "    with open(file_path, 'r') as file:\n",
    "        current_epoch = None\n",
    "        current_data = []\n",
    "        for line in file:\n",
    "            line = line.strip()\n",
    "            if line.startswith('----- Epoch'):\n",
    "                if current_epoch is not None:\n",
    "                    epoch_data.append(current_data)\n",
    "                current_epoch = int(line.split(' ')[-2])\n",
    "                current_data = []\n",
    "            elif line:\n",
    "                current_data.append(line)\n",
    "        if current_epoch is not None:\n",
    "            epoch_data.append(current_data)\n",
    "    return epoch_data"
   ]
  },
  {
   "cell_type": "code",
   "execution_count": 5,
   "id": "871c7656-18b7-4018-8ecb-9518841453a5",
   "metadata": {},
   "outputs": [],
   "source": [
    "def list_to_dataframe(data_list):\n",
    "    data = [item.split(',') for item in data_list]\n",
    "    df = pd.DataFrame(data, columns=['true', 'pred'])\n",
    "    return df"
   ]
  },
  {
   "cell_type": "code",
   "execution_count": 16,
   "id": "e2dfa9cc-362d-419b-9b78-98c363bcbb88",
   "metadata": {},
   "outputs": [
    {
     "name": "stdout",
     "output_type": "stream",
     "text": [
      "new_results/species_RESNET18_common_4mer_32,64,256,7/Fold_01.csv\n"
     ]
    },
    {
     "name": "stderr",
     "output_type": "stream",
     "text": [
      "100%|██████████████████████████████████████████████████████████████████████████████████████████████████████████████████████████████████████████████████████████████████████| 35/35 [00:00<00:00, 15182.61it/s]\n"
     ]
    },
    {
     "name": "stdout",
     "output_type": "stream",
     "text": [
      "new_results/species_RESNET18_common_4mer_32,64,256,7/Fold_02.csv\n"
     ]
    },
    {
     "name": "stderr",
     "output_type": "stream",
     "text": [
      "100%|██████████████████████████████████████████████████████████████████████████████████████████████████████████████████████████████████████████████████████████████████████| 35/35 [00:00<00:00, 13201.50it/s]\n"
     ]
    },
    {
     "name": "stdout",
     "output_type": "stream",
     "text": [
      "new_results/species_RESNET18_common_4mer_32,64,256,7/Fold_03.csv\n"
     ]
    },
    {
     "name": "stderr",
     "output_type": "stream",
     "text": [
      "100%|██████████████████████████████████████████████████████████████████████████████████████████████████████████████████████████████████████████████████████████████████████| 35/35 [00:00<00:00, 16464.85it/s]\n"
     ]
    },
    {
     "name": "stdout",
     "output_type": "stream",
     "text": [
      "new_results/species_RESNET18_common_4mer_32,64,256,7/Fold_04.csv\n"
     ]
    },
    {
     "name": "stderr",
     "output_type": "stream",
     "text": [
      "100%|██████████████████████████████████████████████████████████████████████████████████████████████████████████████████████████████████████████████████████████████████████| 35/35 [00:00<00:00, 15808.81it/s]\n"
     ]
    },
    {
     "name": "stdout",
     "output_type": "stream",
     "text": [
      "new_results/species_RESNET18_common_4mer_32,64,256,7/Fold_05.csv\n"
     ]
    },
    {
     "name": "stderr",
     "output_type": "stream",
     "text": [
      "100%|██████████████████████████████████████████████████████████████████████████████████████████████████████████████████████████████████████████████████████████████████████| 35/35 [00:00<00:00, 16840.73it/s]\n"
     ]
    },
    {
     "name": "stdout",
     "output_type": "stream",
     "text": [
      "new_results/species_RESNET18_common_4mer_32,64,256,7/Fold_06.csv\n"
     ]
    },
    {
     "name": "stderr",
     "output_type": "stream",
     "text": [
      "100%|██████████████████████████████████████████████████████████████████████████████████████████████████████████████████████████████████████████████████████████████████████| 35/35 [00:00<00:00, 16376.69it/s]\n"
     ]
    },
    {
     "name": "stdout",
     "output_type": "stream",
     "text": [
      "new_results/species_RESNET18_common_4mer_32,64,256,7/Fold_07.csv\n"
     ]
    },
    {
     "name": "stderr",
     "output_type": "stream",
     "text": [
      "100%|██████████████████████████████████████████████████████████████████████████████████████████████████████████████████████████████████████████████████████████████████████| 35/35 [00:00<00:00, 15993.10it/s]\n"
     ]
    },
    {
     "name": "stdout",
     "output_type": "stream",
     "text": [
      "new_results/species_RESNET18_common_4mer_32,64,256,7/Fold_08.csv\n"
     ]
    },
    {
     "name": "stderr",
     "output_type": "stream",
     "text": [
      "100%|██████████████████████████████████████████████████████████████████████████████████████████████████████████████████████████████████████████████████████████████████████| 35/35 [00:00<00:00, 16498.16it/s]\n"
     ]
    },
    {
     "name": "stdout",
     "output_type": "stream",
     "text": [
      "new_results/species_RESNET18_common_4mer_32,64,256,7/Fold_09.csv\n"
     ]
    },
    {
     "name": "stderr",
     "output_type": "stream",
     "text": [
      "100%|██████████████████████████████████████████████████████████████████████████████████████████████████████████████████████████████████████████████████████████████████████| 35/35 [00:00<00:00, 13863.50it/s]\n"
     ]
    },
    {
     "name": "stdout",
     "output_type": "stream",
     "text": [
      "new_results/species_RESNET18_common_4mer_32,64,256,7/Fold_10.csv\n"
     ]
    },
    {
     "name": "stderr",
     "output_type": "stream",
     "text": [
      "100%|██████████████████████████████████████████████████████████████████████████████████████████████████████████████████████████████████████████████████████████████████████| 35/35 [00:00<00:00, 16171.03it/s]\n"
     ]
    }
   ],
   "source": [
    "model = optimal[1]\n",
    "num_classes = 35\n",
    "\n",
    "directory = 'new_results/' + model\n",
    "with open(directory + '/maximum_epochs.txt', 'r') as f:\n",
    "    maximum_epochs = [x.strip() for x in f.readlines()]\n",
    "\n",
    "precision_list = []\n",
    "recall_list = []\n",
    "f1_score_list = []\n",
    "MCC_score_list = []\n",
    "\n",
    "from sklearn.metrics import confusion_matrix\n",
    "\n",
    "for i in range(1, 11):\n",
    "    target_epoch = int(maximum_epochs[i-1])\n",
    "    if i < 10: x = '0' + str(i)\n",
    "    else: x = str(i)\n",
    "\n",
    "    file_path = directory + '/Fold_' + x + '.csv'\n",
    "    print(file_path)\n",
    "    epoch_data = parse_epoch_file(file_path)[target_epoch]\n",
    "    \n",
    "    dfData = list_to_dataframe(epoch_data)\n",
    "    labels = [int(x) for x in dfData['true'].values]\n",
    "    preds = [int(x) for x in dfData['pred'].values]\n",
    "\n",
    "    conf_matrix = pd.DataFrame(0, index=np.arange(num_classes), columns=np.arange(num_classes))\n",
    "\n",
    "    for label, pred in zip(labels, preds):\n",
    "        conf_matrix.at[label, pred] += 1\n",
    "    \n",
    "    precision_dict = {}\n",
    "    recall_dict = {}\n",
    "    f1_score_dict = {}\n",
    "    MCC_score_dict = {}\n",
    "    \n",
    "    for i in tqdm(range(num_classes)):\n",
    "        TP = conf_matrix.iloc[i, i]\n",
    "        FP = conf_matrix.iloc[:, i].sum() - TP\n",
    "        FN = conf_matrix.iloc[i, :].sum() - TP\n",
    "        TN = conf_matrix.values.sum() - (TP + FP + FN)\n",
    "        \n",
    "        precision = TP / (TP + FP) if (TP + FP) > 0 else 0\n",
    "        recall = TP / (TP + FN) if (TP + FN) > 0 else 0\n",
    "        f1_score = 2 * (precision * recall) / (precision + recall) if (precision + recall) > 0 else 0\n",
    "\n",
    "        numerator = (TP * TN) - (FP * FN)\n",
    "        denominator = (TP + FP) * (TP + FN) * (TN + FP) * (TN + FN)\n",
    "        if denominator > 0:\n",
    "            denominator = math.sqrt(denominator)\n",
    "            MCC_score = numerator / denominator\n",
    "        else: MCC_score = 0\n",
    "        \n",
    "        precision_dict[i] = precision\n",
    "        recall_dict[i] = recall\n",
    "        f1_score_dict[i] = f1_score\n",
    "        MCC_score_dict[i] = MCC_score\n",
    "    \n",
    "    precision = sum(precision_dict.values()) / len(precision_dict)\n",
    "    recall = sum(recall_dict.values()) / len(recall_dict)\n",
    "    f1_score = sum(f1_score_dict.values()) / len(f1_score_dict)\n",
    "    MCC_score = sum(MCC_score_dict.values()) / len(MCC_score_dict)\n",
    "    \n",
    "    precision_list.append(str(precision))\n",
    "    recall_list.append(str(recall))\n",
    "    f1_score_list.append(str(f1_score))\n",
    "    MCC_score_list.append(str(MCC_score))"
   ]
  },
  {
   "cell_type": "code",
   "execution_count": 17,
   "id": "71e524f6-504c-43bb-8541-aa879c924d91",
   "metadata": {},
   "outputs": [
    {
     "name": "stdout",
     "output_type": "stream",
     "text": [
      "0.7642857142857142,0.861904761904762,0.8452380952380953,0.8261904761904764,0.7761904761904762,0.819047619047619,0.8523809523809524,0.7547619047619047,0.9428571428571428,0.8190476190476191\n",
      "0.8261904761904763\n"
     ]
    }
   ],
   "source": [
    "print(','.join(precision_list))\n",
    "print(np.mean([float(x) for x in precision_list]))"
   ]
  },
  {
   "cell_type": "code",
   "execution_count": 18,
   "id": "94fd7e87-4746-4eb6-916a-6e2105b86e2e",
   "metadata": {},
   "outputs": [
    {
     "name": "stdout",
     "output_type": "stream",
     "text": [
      "0.7714285714285715,0.8428571428571429,0.8142857142857143,0.8,0.7857142857142857,0.8428571428571429,0.8142857142857143,0.7428571428571429,0.9142857142857143,0.7714285714285715\n",
      "0.8100000000000002\n"
     ]
    }
   ],
   "source": [
    "print(','.join(recall_list))\n",
    "print(np.mean([float(x) for x in recall_list]))"
   ]
  },
  {
   "cell_type": "code",
   "execution_count": 19,
   "id": "db79903f-8e74-4772-b95f-39d3de8c12a8",
   "metadata": {},
   "outputs": [
    {
     "name": "stdout",
     "output_type": "stream",
     "text": [
      "0.7438095238095239,0.8314285714285715,0.8047619047619049,0.7923809523809525,0.7638095238095239,0.820952380952381,0.8133333333333334,0.7380952380952381,0.9114285714285714,0.7723809523809525\n",
      "0.7992380952380953\n"
     ]
    }
   ],
   "source": [
    "print(','.join(f1_score_list))\n",
    "print(np.mean([float(x) for x in f1_score_list]))"
   ]
  },
  {
   "cell_type": "code",
   "execution_count": 20,
   "id": "4f364c7e-18b4-4fb8-851a-a11836b04d92",
   "metadata": {},
   "outputs": [
    {
     "name": "stdout",
     "output_type": "stream",
     "text": [
      "0.7510089416250618,0.8377233118077361,0.8127377271513895,0.797703153836095,0.7673055906510581,0.8220762403686495,0.81838302217413,0.7366072161729461,0.9178044952891858,0.7775691151919787\n",
      "0.803891881426823\n"
     ]
    }
   ],
   "source": [
    "print(','.join(MCC_score_list))\n",
    "print(np.mean([float(x) for x in MCC_score_list]))"
   ]
  },
  {
   "cell_type": "code",
   "execution_count": null,
   "id": "58fbdaff-70fc-4723-b470-402b320e7e1a",
   "metadata": {},
   "outputs": [],
   "source": []
  },
  {
   "cell_type": "code",
   "execution_count": 41,
   "id": "b1a32312-6f09-4561-b4e7-fd7c9792046e",
   "metadata": {},
   "outputs": [
    {
     "data": {
      "text/plain": [
       "32"
      ]
     },
     "execution_count": 41,
     "metadata": {},
     "output_type": "execute_result"
    }
   ],
   "source": [
    "target_epoch"
   ]
  },
  {
   "cell_type": "code",
   "execution_count": null,
   "id": "57a0ba53-a350-45a3-87d3-2d57f22a90d3",
   "metadata": {},
   "outputs": [],
   "source": []
  },
  {
   "cell_type": "code",
   "execution_count": 163,
   "id": "0656de1d-b887-4f63-92e0-d39a11b449f1",
   "metadata": {},
   "outputs": [
    {
     "name": "stderr",
     "output_type": "stream",
     "text": [
      "100%|████████████████████████████████████████████████████████████████████████████████████████████████████████████████████████████████████████████████████████████████████| 3323/3323 [00:11<00:00, 293.66it/s]\n",
      "100%|████████████████████████████████████████████████████████████████████████████████████████████████████████████████████████████████████████████████████████████████████| 3323/3323 [00:11<00:00, 298.15it/s]\n",
      "100%|████████████████████████████████████████████████████████████████████████████████████████████████████████████████████████████████████████████████████████████████████| 3323/3323 [00:11<00:00, 293.78it/s]\n",
      "100%|████████████████████████████████████████████████████████████████████████████████████████████████████████████████████████████████████████████████████████████████████| 3323/3323 [00:11<00:00, 294.60it/s]\n",
      "100%|████████████████████████████████████████████████████████████████████████████████████████████████████████████████████████████████████████████████████████████████████| 3323/3323 [00:11<00:00, 296.99it/s]\n",
      "100%|████████████████████████████████████████████████████████████████████████████████████████████████████████████████████████████████████████████████████████████████████| 3323/3323 [00:11<00:00, 299.87it/s]\n",
      "100%|████████████████████████████████████████████████████████████████████████████████████████████████████████████████████████████████████████████████████████████████████| 3323/3323 [00:11<00:00, 296.06it/s]\n",
      "100%|████████████████████████████████████████████████████████████████████████████████████████████████████████████████████████████████████████████████████████████████████| 3323/3323 [00:11<00:00, 299.74it/s]\n",
      "100%|████████████████████████████████████████████████████████████████████████████████████████████████████████████████████████████████████████████████████████████████████| 3323/3323 [00:11<00:00, 295.62it/s]\n",
      "100%|████████████████████████████████████████████████████████████████████████████████████████████████████████████████████████████████████████████████████████████████████| 3323/3323 [00:11<00:00, 295.16it/s]\n"
     ]
    }
   ],
   "source": [
    "precision_list = []\n",
    "recall_list = []\n",
    "f1_score_list = []\n",
    "MCC_score_list = []\n",
    "\n",
    "for i in range(1, 11):\n",
    "    if i < 10: x = '0' + str(i)\n",
    "    else: x = str(i)\n",
    "\n",
    "    dfData = pd.read_csv(f'results/species/GAUSSIAN_ITS_4mer/Fold_{x}.csv', names=['true','pred'])\n",
    "    labels = [int(x) for x in dfData['true'].values]\n",
    "    preds = [int(x) for x in dfData['pred'].values]\n",
    "\n",
    "    conf_matrix = pd.DataFrame(0, index=np.arange(3323), columns=np.arange(3323))\n",
    "\n",
    "    for label, pred in zip(labels, preds):\n",
    "        conf_matrix.at[label, pred] += 1\n",
    "    \n",
    "    precision_dict = {}\n",
    "    recall_dict = {}\n",
    "    f1_score_dict = {}\n",
    "    MCC_score_dict = {}\n",
    "    \n",
    "    for i in tqdm(range(num_classes)):\n",
    "        TP = conf_matrix.iloc[i, i]\n",
    "        FP = conf_matrix.iloc[:, i].sum() - TP\n",
    "        FN = conf_matrix.iloc[i, :].sum() - TP\n",
    "        TN = conf_matrix.values.sum() - (TP + FP + FN)\n",
    "        \n",
    "        precision = TP / (TP + FP) if (TP + FP) > 0 else 0\n",
    "        recall = TP / (TP + FN) if (TP + FN) > 0 else 0\n",
    "        f1_score = 2 * (precision * recall) / (precision + recall) if (precision + recall) > 0 else 0\n",
    "\n",
    "        numerator = (TP * TN) - (FP * FN)\n",
    "        denominator = (TP + FP) * (TP + FN) * (TN + FP) * (TN + FN)\n",
    "        if denominator > 0:\n",
    "            denominator = math.sqrt(denominator)\n",
    "            MCC_score = numerator / denominator\n",
    "        else: MCC_score = 0\n",
    "        \n",
    "        precision_dict[i] = precision\n",
    "        recall_dict[i] = recall\n",
    "        f1_score_dict[i] = f1_score\n",
    "        MCC_score_dict[i] = MCC_score\n",
    "    \n",
    "    precision = sum(precision_dict.values()) / len(precision_dict)\n",
    "    recall = sum(recall_dict.values()) / len(recall_dict)\n",
    "    f1_score = sum(f1_score_dict.values()) / len(f1_score_dict)\n",
    "    MCC_score = sum(MCC_score_dict.values()) / len(MCC_score_dict)\n",
    "    \n",
    "    precision_list.append(str(precision))\n",
    "    recall_list.append(str(recall))\n",
    "    f1_score_list.append(str(f1_score))\n",
    "    MCC_score_list.append(str(MCC_score))"
   ]
  },
  {
   "cell_type": "code",
   "execution_count": 164,
   "id": "3d083e33-6a47-4929-be21-468b4eab9b1a",
   "metadata": {},
   "outputs": [
    {
     "name": "stdout",
     "output_type": "stream",
     "text": [
      "0.8139550607903082,0.8075636597245103,0.8120965905439751,0.8180561766262209,0.8170846451362112,0.8189127020298139,0.8113797880496227,0.8136852963773193,0.8206412999809288,0.8121956384757092\n",
      "0.8145570857734621\n"
     ]
    }
   ],
   "source": [
    "print(','.join(precision_list))\n",
    "print(np.mean([float(x) for x in precision_list]))"
   ]
  },
  {
   "cell_type": "code",
   "execution_count": 165,
   "id": "fb183ca7-0840-4855-8995-6358e164d2eb",
   "metadata": {},
   "outputs": [
    {
     "name": "stdout",
     "output_type": "stream",
     "text": [
      "0.777008727053867,0.7746012639181462,0.7709900692145651,0.7794161901895877,0.7755040625940415,0.7801685224195004,0.778663857959675,0.775353596148059,0.777008727053867,0.7762563948239543\n",
      "0.7764971411375263\n"
     ]
    }
   ],
   "source": [
    "print(','.join(recall_list))\n",
    "print(np.mean([float(x) for x in recall_list]))"
   ]
  },
  {
   "cell_type": "code",
   "execution_count": 166,
   "id": "3807b837-87d3-488b-8c17-772eed2c38cd",
   "metadata": {},
   "outputs": [
    {
     "name": "stdout",
     "output_type": "stream",
     "text": [
      "0.7735162831821163,0.7695511209609259,0.7688204532275509,0.7766824090844043,0.7739320938758089,0.7773980927565606,0.7731757685125231,0.7727188447287127,0.776140033961633,0.7723728945656247\n",
      "0.7734307994855861\n"
     ]
    }
   ],
   "source": [
    "print(','.join(f1_score_list))\n",
    "print(np.mean([float(x) for x in f1_score_list]))"
   ]
  },
  {
   "cell_type": "code",
   "execution_count": 167,
   "id": "281bc184-1b17-46c4-9b66-28be5ec9eeca",
   "metadata": {},
   "outputs": [
    {
     "name": "stdout",
     "output_type": "stream",
     "text": [
      "0.7839820769249282,0.7798404789378772,0.7796473424660615,0.7872150504107457,0.7846364350564675,0.7879672677390508,0.7836058927395319,0.7831385956855299,0.7869689564201011,0.7828355804192377\n",
      "0.7839837676799531\n"
     ]
    }
   ],
   "source": [
    "print(','.join(MCC_score_list))\n",
    "print(np.mean([float(x) for x in MCC_score_list]))"
   ]
  },
  {
   "cell_type": "code",
   "execution_count": null,
   "id": "24ec6e77-70e1-4f72-825d-b9453bf825c5",
   "metadata": {},
   "outputs": [],
   "source": []
  }
 ],
 "metadata": {
  "kernelspec": {
   "display_name": "pytorch",
   "language": "python",
   "name": "pytorch"
  },
  "language_info": {
   "codemirror_mode": {
    "name": "ipython",
    "version": 3
   },
   "file_extension": ".py",
   "mimetype": "text/x-python",
   "name": "python",
   "nbconvert_exporter": "python",
   "pygments_lexer": "ipython3",
   "version": "3.11.5"
  }
 },
 "nbformat": 4,
 "nbformat_minor": 5
}

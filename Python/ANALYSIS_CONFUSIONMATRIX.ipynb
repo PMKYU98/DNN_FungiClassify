{
 "cells": [
  {
   "cell_type": "code",
   "execution_count": 1,
   "id": "4dbdf7d3-6923-4802-9040-1954ebcddf3a",
   "metadata": {},
   "outputs": [],
   "source": [
    "import pandas as pd\n",
    "from tqdm import tqdm\n",
    "import numpy as np"
   ]
  },
  {
   "cell_type": "code",
   "execution_count": 2,
   "id": "76c7f2cd-5baf-4af7-a3b3-4bfcc0e9b5ea",
   "metadata": {},
   "outputs": [],
   "source": [
    "import math"
   ]
  },
  {
   "cell_type": "code",
   "execution_count": 3,
   "id": "c50924a9-2163-46c8-9beb-ae8236c45321",
   "metadata": {},
   "outputs": [],
   "source": [
    "optimal = [\"species_LENET5_ITS_4mer_32,32,4\",\n",
    "  \"species_RESNET8_ITS_4mer_16,64,128,7\",\n",
    "  \"species_RESNET10_ITS_4mer_16,64,128,256,7\",\n",
    "  \"species_RESNET18_ITS_4mer_32,64,256,7\",\n",
    "  \"species_RESNET34_ITS_4mer_64,128,256,7\"]"
   ]
  },
  {
   "cell_type": "code",
   "execution_count": 8,
   "id": "fcaadf43-cad1-4286-a56d-6b8789a59c0e",
   "metadata": {},
   "outputs": [],
   "source": [
    "def parse_epoch_file(file_path):\n",
    "    epoch_data = []\n",
    "    with open(file_path, 'r') as file:\n",
    "        current_epoch = None\n",
    "        current_data = []\n",
    "        for line in file:\n",
    "            line = line.strip()\n",
    "            if line.startswith('----- Epoch'):\n",
    "                if current_epoch is not None:\n",
    "                    epoch_data.append(current_data)\n",
    "                current_epoch = int(line.split(' ')[-2])\n",
    "                current_data = []\n",
    "            elif line:\n",
    "                current_data.append(line)\n",
    "        if current_epoch is not None:\n",
    "            epoch_data.append(current_data)\n",
    "    return epoch_data"
   ]
  },
  {
   "cell_type": "code",
   "execution_count": 9,
   "id": "871c7656-18b7-4018-8ecb-9518841453a5",
   "metadata": {},
   "outputs": [],
   "source": [
    "def list_to_dataframe(data_list):\n",
    "    data = [item.split(',') for item in data_list]\n",
    "    df = pd.DataFrame(data, columns=['true', 'pred'])\n",
    "    return df"
   ]
  },
  {
   "cell_type": "code",
   "execution_count": 32,
   "id": "e2dfa9cc-362d-419b-9b78-98c363bcbb88",
   "metadata": {
    "scrolled": true
   },
   "outputs": [
    {
     "name": "stdout",
     "output_type": "stream",
     "text": [
      "species_RESNET34_ITS_4mer_64,128,256,7\n"
     ]
    },
    {
     "name": "stderr",
     "output_type": "stream",
     "text": [
      "100%|████████████████████████████████████████████████████████████████████████████████████████████████████████████████████████████████████████████████████████████████████| 3323/3323 [00:11<00:00, 291.95it/s]\n",
      "100%|████████████████████████████████████████████████████████████████████████████████████████████████████████████████████████████████████████████████████████████████████| 3323/3323 [00:11<00:00, 293.92it/s]\n",
      "100%|████████████████████████████████████████████████████████████████████████████████████████████████████████████████████████████████████████████████████████████████████| 3323/3323 [00:11<00:00, 296.82it/s]\n",
      "100%|████████████████████████████████████████████████████████████████████████████████████████████████████████████████████████████████████████████████████████████████████| 3323/3323 [00:11<00:00, 295.08it/s]\n",
      "100%|████████████████████████████████████████████████████████████████████████████████████████████████████████████████████████████████████████████████████████████████████| 3323/3323 [00:11<00:00, 292.92it/s]\n",
      "100%|████████████████████████████████████████████████████████████████████████████████████████████████████████████████████████████████████████████████████████████████████| 3323/3323 [00:11<00:00, 296.24it/s]\n",
      "100%|████████████████████████████████████████████████████████████████████████████████████████████████████████████████████████████████████████████████████████████████████| 3323/3323 [00:11<00:00, 293.14it/s]\n",
      "100%|████████████████████████████████████████████████████████████████████████████████████████████████████████████████████████████████████████████████████████████████████| 3323/3323 [00:11<00:00, 294.70it/s]\n",
      "100%|████████████████████████████████████████████████████████████████████████████████████████████████████████████████████████████████████████████████████████████████████| 3323/3323 [00:11<00:00, 296.02it/s]\n",
      "100%|████████████████████████████████████████████████████████████████████████████████████████████████████████████████████████████████████████████████████████████████████| 3323/3323 [00:11<00:00, 295.60it/s]\n"
     ]
    }
   ],
   "source": [
    "model = optimal[4]\n",
    "print(model)\n",
    "num_classes = 3323\n",
    "\n",
    "directory = 'new_results/' + model\n",
    "with open(directory + '/maximum_epochs.txt', 'r') as f:\n",
    "    maximum_epochs = [x.strip() for x in f.readlines()]\n",
    "\n",
    "precision_list = []\n",
    "recall_list = []\n",
    "f1_score_list = []\n",
    "MCC_score_list = []\n",
    "\n",
    "from sklearn.metrics import confusion_matrix\n",
    "\n",
    "for i in range(1, 11):\n",
    "    target_epoch = int(maximum_epochs[i-1])-1\n",
    "    if i < 10: x = '0' + str(i)\n",
    "    else: x = str(i)\n",
    "\n",
    "    file_path = directory + '/Fold_' + x + '.csv'\n",
    "    epoch_data = parse_epoch_file(file_path)[target_epoch]\n",
    "    \n",
    "    dfData = list_to_dataframe(epoch_data)\n",
    "    labels = [int(x) for x in dfData['true'].values]\n",
    "    preds = [int(x) for x in dfData['pred'].values]\n",
    "\n",
    "    conf_matrix = pd.DataFrame(0, index=np.arange(num_classes), columns=np.arange(num_classes))\n",
    "\n",
    "    for label, pred in zip(labels, preds):\n",
    "        conf_matrix.at[label, pred] += 1\n",
    "\n",
    "    precision_dict = {}\n",
    "    recall_dict = {}\n",
    "    f1_score_dict = {}\n",
    "    MCC_score_dict = {}\n",
    "    \n",
    "    for i in tqdm(range(num_classes)):\n",
    "        TP = conf_matrix.iloc[i, i]\n",
    "        FP = conf_matrix.iloc[:, i].sum() - TP\n",
    "        FN = conf_matrix.iloc[i, :].sum() - TP\n",
    "        TN = conf_matrix.values.sum() - (TP + FP + FN)\n",
    "        \n",
    "        precision = TP / (TP + FP) if (TP + FP) > 0 else 0\n",
    "        recall = TP / (TP + FN) if (TP + FN) > 0 else 0\n",
    "        f1_score = 2 * (precision * recall) / (precision + recall) if (precision + recall) > 0 else 0\n",
    "\n",
    "        numerator = (TP * TN) - (FP * FN)\n",
    "        denominator = (TP + FP) * (TP + FN) * (TN + FP) * (TN + FN)\n",
    "        if denominator > 0:\n",
    "            denominator = math.sqrt(denominator)\n",
    "            MCC_score = numerator / denominator\n",
    "        else: MCC_score = 0\n",
    "        \n",
    "        precision_dict[i] = precision\n",
    "        recall_dict[i] = recall\n",
    "        f1_score_dict[i] = f1_score\n",
    "        MCC_score_dict[i] = MCC_score\n",
    "    \n",
    "    precision = sum(precision_dict.values()) / len(precision_dict)\n",
    "    recall = sum(recall_dict.values()) / len(recall_dict)\n",
    "    f1_score = sum(f1_score_dict.values()) / len(f1_score_dict)\n",
    "    MCC_score = sum(MCC_score_dict.values()) / len(MCC_score_dict)\n",
    "    \n",
    "    precision_list.append(str(precision))\n",
    "    recall_list.append(str(recall))\n",
    "    f1_score_list.append(str(f1_score))\n",
    "    MCC_score_list.append(str(MCC_score))"
   ]
  },
  {
   "cell_type": "code",
   "execution_count": 33,
   "id": "71e524f6-504c-43bb-8541-aa879c924d91",
   "metadata": {},
   "outputs": [
    {
     "name": "stdout",
     "output_type": "stream",
     "text": [
      "0.8673645443732695,0.8660504707450227,0.8640635971511678,0.857900204920968,0.8696057779115246,0.8676296519209524,0.8565985507454044,0.866516916727569,0.864088674892164,0.8736490262671406\n",
      "0.8653467415655183\n"
     ]
    }
   ],
   "source": [
    "print(','.join(precision_list))\n",
    "print(np.mean([float(x) for x in precision_list]))"
   ]
  },
  {
   "cell_type": "code",
   "execution_count": 34,
   "id": "94fd7e87-4746-4eb6-916a-6e2105b86e2e",
   "metadata": {},
   "outputs": [
    {
     "name": "stdout",
     "output_type": "stream",
     "text": [
      "0.8600662052362323,0.8564550105326513,0.8561540776406861,0.8496840204634366,0.8566054769786338,0.8563045440866687,0.8523924164911225,0.8591634065603371,0.8540475473969305,0.8623232019259706\n",
      "0.856319590731267\n"
     ]
    }
   ],
   "source": [
    "print(','.join(recall_list))\n",
    "print(np.mean([float(x) for x in recall_list]))"
   ]
  },
  {
   "cell_type": "code",
   "execution_count": 35,
   "id": "db79903f-8e74-4772-b95f-39d3de8c12a8",
   "metadata": {},
   "outputs": [
    {
     "name": "stdout",
     "output_type": "stream",
     "text": [
      "0.8489722902903778,0.8455975428590535,0.8445423670521479,0.8377940663676444,0.8467936316868012,0.8460613616496857,0.8400277005904456,0.8477305838575775,0.8428750555292841,0.8517021815246312\n",
      "0.8452096781407649\n"
     ]
    }
   ],
   "source": [
    "print(','.join(f1_score_list))\n",
    "print(np.mean([float(x) for x in f1_score_list]))"
   ]
  },
  {
   "cell_type": "code",
   "execution_count": 36,
   "id": "4f364c7e-18b4-4fb8-851a-a11836b04d92",
   "metadata": {},
   "outputs": [
    {
     "name": "stdout",
     "output_type": "stream",
     "text": [
      "0.8561194931680921,0.8531832639844275,0.8520806867951918,0.8455404708104495,0.8546993389480475,0.8537722583272548,0.8470326517432116,0.8550559977899704,0.8507238184470445,0.8595889821703147\n",
      "0.8527796962184004\n"
     ]
    }
   ],
   "source": [
    "print(','.join(MCC_score_list))\n",
    "print(np.mean([float(x) for x in MCC_score_list]))"
   ]
  },
  {
   "cell_type": "code",
   "execution_count": null,
   "id": "57a0ba53-a350-45a3-87d3-2d57f22a90d3",
   "metadata": {},
   "outputs": [],
   "source": []
  },
  {
   "cell_type": "code",
   "execution_count": 163,
   "id": "0656de1d-b887-4f63-92e0-d39a11b449f1",
   "metadata": {},
   "outputs": [
    {
     "name": "stderr",
     "output_type": "stream",
     "text": [
      "100%|████████████████████████████████████████████████████████████████████████████████████████████████████████████████████████████████████████████████████████████████████| 3323/3323 [00:11<00:00, 293.66it/s]\n",
      "100%|████████████████████████████████████████████████████████████████████████████████████████████████████████████████████████████████████████████████████████████████████| 3323/3323 [00:11<00:00, 298.15it/s]\n",
      "100%|████████████████████████████████████████████████████████████████████████████████████████████████████████████████████████████████████████████████████████████████████| 3323/3323 [00:11<00:00, 293.78it/s]\n",
      "100%|████████████████████████████████████████████████████████████████████████████████████████████████████████████████████████████████████████████████████████████████████| 3323/3323 [00:11<00:00, 294.60it/s]\n",
      "100%|████████████████████████████████████████████████████████████████████████████████████████████████████████████████████████████████████████████████████████████████████| 3323/3323 [00:11<00:00, 296.99it/s]\n",
      "100%|████████████████████████████████████████████████████████████████████████████████████████████████████████████████████████████████████████████████████████████████████| 3323/3323 [00:11<00:00, 299.87it/s]\n",
      "100%|████████████████████████████████████████████████████████████████████████████████████████████████████████████████████████████████████████████████████████████████████| 3323/3323 [00:11<00:00, 296.06it/s]\n",
      "100%|████████████████████████████████████████████████████████████████████████████████████████████████████████████████████████████████████████████████████████████████████| 3323/3323 [00:11<00:00, 299.74it/s]\n",
      "100%|████████████████████████████████████████████████████████████████████████████████████████████████████████████████████████████████████████████████████████████████████| 3323/3323 [00:11<00:00, 295.62it/s]\n",
      "100%|████████████████████████████████████████████████████████████████████████████████████████████████████████████████████████████████████████████████████████████████████| 3323/3323 [00:11<00:00, 295.16it/s]\n"
     ]
    }
   ],
   "source": [
    "precision_list = []\n",
    "recall_list = []\n",
    "f1_score_list = []\n",
    "MCC_score_list = []\n",
    "\n",
    "for i in range(1, 11):\n",
    "    if i < 10: x = '0' + str(i)\n",
    "    else: x = str(i)\n",
    "\n",
    "    dfData = pd.read_csv(f'results/species/GAUSSIAN_ITS_4mer/Fold_{x}.csv', names=['true','pred'])\n",
    "    labels = [int(x) for x in dfData['true'].values]\n",
    "    preds = [int(x) for x in dfData['pred'].values]\n",
    "\n",
    "    conf_matrix = pd.DataFrame(0, index=np.arange(3323), columns=np.arange(3323))\n",
    "\n",
    "    for label, pred in zip(labels, preds):\n",
    "        conf_matrix.at[label, pred] += 1\n",
    "    \n",
    "    precision_dict = {}\n",
    "    recall_dict = {}\n",
    "    f1_score_dict = {}\n",
    "    MCC_score_dict = {}\n",
    "    \n",
    "    for i in tqdm(range(num_classes)):\n",
    "        TP = conf_matrix.iloc[i, i]\n",
    "        FP = conf_matrix.iloc[:, i].sum() - TP\n",
    "        FN = conf_matrix.iloc[i, :].sum() - TP\n",
    "        TN = conf_matrix.values.sum() - (TP + FP + FN)\n",
    "        \n",
    "        precision = TP / (TP + FP) if (TP + FP) > 0 else 0\n",
    "        recall = TP / (TP + FN) if (TP + FN) > 0 else 0\n",
    "        f1_score = 2 * (precision * recall) / (precision + recall) if (precision + recall) > 0 else 0\n",
    "\n",
    "        numerator = (TP * TN) - (FP * FN)\n",
    "        denominator = (TP + FP) * (TP + FN) * (TN + FP) * (TN + FN)\n",
    "        if denominator > 0:\n",
    "            denominator = math.sqrt(denominator)\n",
    "            MCC_score = numerator / denominator\n",
    "        else: MCC_score = 0\n",
    "        \n",
    "        precision_dict[i] = precision\n",
    "        recall_dict[i] = recall\n",
    "        f1_score_dict[i] = f1_score\n",
    "        MCC_score_dict[i] = MCC_score\n",
    "    \n",
    "    precision = sum(precision_dict.values()) / len(precision_dict)\n",
    "    recall = sum(recall_dict.values()) / len(recall_dict)\n",
    "    f1_score = sum(f1_score_dict.values()) / len(f1_score_dict)\n",
    "    MCC_score = sum(MCC_score_dict.values()) / len(MCC_score_dict)\n",
    "    \n",
    "    precision_list.append(str(precision))\n",
    "    recall_list.append(str(recall))\n",
    "    f1_score_list.append(str(f1_score))\n",
    "    MCC_score_list.append(str(MCC_score))"
   ]
  },
  {
   "cell_type": "code",
   "execution_count": 164,
   "id": "3d083e33-6a47-4929-be21-468b4eab9b1a",
   "metadata": {},
   "outputs": [
    {
     "name": "stdout",
     "output_type": "stream",
     "text": [
      "0.8139550607903082,0.8075636597245103,0.8120965905439751,0.8180561766262209,0.8170846451362112,0.8189127020298139,0.8113797880496227,0.8136852963773193,0.8206412999809288,0.8121956384757092\n",
      "0.8145570857734621\n"
     ]
    }
   ],
   "source": [
    "print(','.join(precision_list))\n",
    "print(np.mean([float(x) for x in precision_list]))"
   ]
  },
  {
   "cell_type": "code",
   "execution_count": 165,
   "id": "fb183ca7-0840-4855-8995-6358e164d2eb",
   "metadata": {},
   "outputs": [
    {
     "name": "stdout",
     "output_type": "stream",
     "text": [
      "0.777008727053867,0.7746012639181462,0.7709900692145651,0.7794161901895877,0.7755040625940415,0.7801685224195004,0.778663857959675,0.775353596148059,0.777008727053867,0.7762563948239543\n",
      "0.7764971411375263\n"
     ]
    }
   ],
   "source": [
    "print(','.join(recall_list))\n",
    "print(np.mean([float(x) for x in recall_list]))"
   ]
  },
  {
   "cell_type": "code",
   "execution_count": 166,
   "id": "3807b837-87d3-488b-8c17-772eed2c38cd",
   "metadata": {},
   "outputs": [
    {
     "name": "stdout",
     "output_type": "stream",
     "text": [
      "0.7735162831821163,0.7695511209609259,0.7688204532275509,0.7766824090844043,0.7739320938758089,0.7773980927565606,0.7731757685125231,0.7727188447287127,0.776140033961633,0.7723728945656247\n",
      "0.7734307994855861\n"
     ]
    }
   ],
   "source": [
    "print(','.join(f1_score_list))\n",
    "print(np.mean([float(x) for x in f1_score_list]))"
   ]
  },
  {
   "cell_type": "code",
   "execution_count": 167,
   "id": "281bc184-1b17-46c4-9b66-28be5ec9eeca",
   "metadata": {},
   "outputs": [
    {
     "name": "stdout",
     "output_type": "stream",
     "text": [
      "0.7839820769249282,0.7798404789378772,0.7796473424660615,0.7872150504107457,0.7846364350564675,0.7879672677390508,0.7836058927395319,0.7831385956855299,0.7869689564201011,0.7828355804192377\n",
      "0.7839837676799531\n"
     ]
    }
   ],
   "source": [
    "print(','.join(MCC_score_list))\n",
    "print(np.mean([float(x) for x in MCC_score_list]))"
   ]
  },
  {
   "cell_type": "code",
   "execution_count": null,
   "id": "24ec6e77-70e1-4f72-825d-b9453bf825c5",
   "metadata": {},
   "outputs": [],
   "source": []
  }
 ],
 "metadata": {
  "kernelspec": {
   "display_name": "pytorch",
   "language": "python",
   "name": "pytorch"
  },
  "language_info": {
   "codemirror_mode": {
    "name": "ipython",
    "version": 3
   },
   "file_extension": ".py",
   "mimetype": "text/x-python",
   "name": "python",
   "nbconvert_exporter": "python",
   "pygments_lexer": "ipython3",
   "version": "3.11.5"
  }
 },
 "nbformat": 4,
 "nbformat_minor": 5
}

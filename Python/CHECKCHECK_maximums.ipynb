{
 "cells": [
  {
   "cell_type": "code",
   "execution_count": 26,
   "id": "f9a347a7-465d-4c14-8d99-7fb91ad7add9",
   "metadata": {},
   "outputs": [
    {
     "name": "stderr",
     "output_type": "stream",
     "text": [
      "100%|████████████████████████████████████████████████████████████████████████████████████████████████████████████████████████████████████████████████████████████████████████| 76/76 [00:00<00:00, 714.41it/s]\n"
     ]
    }
   ],
   "source": [
    "import os\n",
    "import numpy as np\n",
    "import pandas as pd\n",
    "from tqdm import tqdm\n",
    "\n",
    "root_dir = 'new_results'\n",
    "\n",
    "for folder_name in tqdm(os.listdir(root_dir)):\n",
    "    folder_path = os.path.join(root_dir, folder_name)\n",
    "    \n",
    "    if os.path.isdir(folder_path):\n",
    "        val_acc_path = os.path.join(folder_path, 'val_acc.csv')\n",
    "        \n",
    "        if os.path.exists(val_acc_path):\n",
    "            val_acc = pd.read_csv(val_acc_path, header=None)\n",
    "            max_epochs = val_acc.idxmax(axis=1) + 1\n",
    "            max_epochs_path = os.path.join(folder_path, 'maximum_epochs.txt')\n",
    "            with open(max_epochs_path, 'w') as f:\n",
    "                for epoch in max_epochs:\n",
    "                    f.write(f\"{epoch}\\n\")"
   ]
  },
  {
   "cell_type": "code",
   "execution_count": 27,
   "id": "a12cf01a-b90e-4bb9-8f74-2223b9aa7fcd",
   "metadata": {},
   "outputs": [
    {
     "name": "stderr",
     "output_type": "stream",
     "text": [
      "100%|████████████████████████████████████████████████████████████████████████████████████████████████████████████████████████████████████████████████████████████████████████| 76/76 [00:00<00:00, 719.67it/s]\n"
     ]
    }
   ],
   "source": [
    "for folder_name in tqdm(os.listdir(root_dir)):\n",
    "    folder_path = os.path.join(root_dir, folder_name)\n",
    "    \n",
    "    if os.path.isdir(folder_path):\n",
    "        max_epochs_path = os.path.join(folder_path, 'maximum_epochs.txt')\n",
    "        test_acc_path = os.path.join(folder_path, 'test_acc.csv')\n",
    "        \n",
    "        if os.path.exists(max_epochs_path) and os.path.exists(test_acc_path):\n",
    "            with open(max_epochs_path, 'r') as f:\n",
    "                max_epochs = [int(line.strip()) for line in f]\n",
    "            \n",
    "            test_acc = pd.read_csv(test_acc_path, header=None)  \n",
    "            max_test_acc = [test_acc.iloc[i, epoch - 1] for i, epoch in enumerate(max_epochs)]\n",
    "            max_test_acc_path = os.path.join(folder_path, 'maximum_test_acc.txt')\n",
    "            with open(max_test_acc_path, 'w') as f:\n",
    "                for acc in max_test_acc:\n",
    "                    f.write(f\"{acc}\\n\")"
   ]
  },
  {
   "cell_type": "code",
   "execution_count": 28,
   "id": "943fcab1-53ed-464d-bff9-1637a8a2fbf9",
   "metadata": {},
   "outputs": [
    {
     "name": "stderr",
     "output_type": "stream",
     "text": [
      "100%|███████████████████████████████████████████████████████████████████████████████████████████████████████████████████████████████████████████████████████████████████████| 76/76 [00:00<00:00, 3115.85it/s]\n"
     ]
    }
   ],
   "source": [
    "for folder_name in tqdm(os.listdir(root_dir)):\n",
    "    folder_path = os.path.join(root_dir, folder_name)\n",
    "    \n",
    "    if os.path.isdir(folder_path):\n",
    "        max_epochs_path = os.path.join(folder_path, 'maximum_epochs.txt')\n",
    "        times_acc_path = os.path.join(folder_path, 'times.csv')\n",
    "        \n",
    "        if os.path.exists(max_epochs_path) and os.path.exists(times_acc_path):\n",
    "            with open(max_epochs_path, 'r') as f:\n",
    "                max_epochs = [int(line.strip()) for line in f]\n",
    "            \n",
    "            with open(times_acc_path, 'r') as f:\n",
    "                times_acc_lines = f.readlines()\n",
    "            \n",
    "            times_acc = []\n",
    "            for idx, line in enumerate(times_acc_lines):\n",
    "                line = line.strip()\n",
    "                if idx > 0 and line.startswith(','):\n",
    "                    line = line[1:]\n",
    "                times_acc.append([float(x) for x in line.split(',')])\n",
    "            \n",
    "            max_epoch_times = [sum(times_acc[i][:epoch]) for i, epoch in enumerate(max_epochs)]\n",
    "            max_epoch_time_path = os.path.join(folder_path, 'maximum_epoch_time.txt')\n",
    "            with open(max_epoch_time_path, 'w') as f:\n",
    "                for time in max_epoch_times:\n",
    "                    f.write(f\"{time}\\n\")"
   ]
  },
  {
   "cell_type": "code",
   "execution_count": 29,
   "id": "77168989-dadc-4275-9c62-28c7fd86c4a3",
   "metadata": {},
   "outputs": [],
   "source": [
    "consolidated_file_path = os.path.join(root_dir, 'consolidated_maximum_test_acc.tsv')\n",
    "\n",
    "with open(consolidated_file_path, 'w') as consolidated_file:\n",
    "    for folder_name in os.listdir(root_dir):\n",
    "        folder_path = os.path.join(root_dir, folder_name)\n",
    "        \n",
    "        if os.path.isdir(folder_path):\n",
    "            max_test_acc_path = os.path.join(folder_path, 'maximum_test_acc.txt')\n",
    "            \n",
    "            if os.path.exists(max_test_acc_path):\n",
    "                with open(max_test_acc_path, 'r') as f:\n",
    "                    max_test_acc_lines = [line.strip() for line in f]\n",
    "                \n",
    "                combined_line = f\"{folder_name}\\t\" + \"\\t\".join(max_test_acc_lines) + \"\\n\"\n",
    "                consolidated_file.write(combined_line)"
   ]
  },
  {
   "cell_type": "code",
   "execution_count": 30,
   "id": "6d176e66-0f8e-4ad6-8a58-f3ed5af3708c",
   "metadata": {},
   "outputs": [],
   "source": [
    "consolidated_file_path = os.path.join(root_dir, 'consolidated_maximum_epoch_time.tsv')\n",
    "\n",
    "with open(consolidated_file_path, 'w') as consolidated_file:\n",
    "    for folder_name in os.listdir(root_dir):\n",
    "        folder_path = os.path.join(root_dir, folder_name)\n",
    "        if os.path.isdir(folder_path):\n",
    "            max_test_acc_path = os.path.join(folder_path, 'maximum_epoch_time.txt')\n",
    "            \n",
    "            if os.path.exists(max_test_acc_path):\n",
    "                with open(max_test_acc_path, 'r') as f:\n",
    "                    max_test_acc_lines = [line.strip() for line in f]\n",
    "                \n",
    "                combined_line = f\"{folder_name}\\t\" + \"\\t\".join(max_test_acc_lines) + \"\\n\"\n",
    "                consolidated_file.write(combined_line)"
   ]
  },
  {
   "cell_type": "code",
   "execution_count": null,
   "id": "433f112c-aba6-48cf-9728-38b89eb20287",
   "metadata": {},
   "outputs": [],
   "source": []
  },
  {
   "cell_type": "code",
   "execution_count": null,
   "id": "7395fdeb-2829-4af7-b091-00a25bd6ecc4",
   "metadata": {},
   "outputs": [],
   "source": []
  },
  {
   "cell_type": "code",
   "execution_count": null,
   "id": "06d90008-8324-4c39-908b-5702dcdaee0f",
   "metadata": {},
   "outputs": [],
   "source": []
  }
 ],
 "metadata": {
  "kernelspec": {
   "display_name": "tf",
   "language": "python",
   "name": "tf"
  },
  "language_info": {
   "codemirror_mode": {
    "name": "ipython",
    "version": 3
   },
   "file_extension": ".py",
   "mimetype": "text/x-python",
   "name": "python",
   "nbconvert_exporter": "python",
   "pygments_lexer": "ipython3",
   "version": "3.9.18"
  }
 },
 "nbformat": 4,
 "nbformat_minor": 5
}

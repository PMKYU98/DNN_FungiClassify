{
 "cells": [
  {
   "cell_type": "code",
   "execution_count": 1,
   "id": "f8a15a41-44de-43d5-b1d4-90b053acd62e",
   "metadata": {},
   "outputs": [],
   "source": [
    "k = 4"
   ]
  },
  {
   "cell_type": "code",
   "execution_count": 2,
   "id": "b04091a8-6656-4811-aa0f-e4b3ff00d9bf",
   "metadata": {},
   "outputs": [],
   "source": [
    "import os\n",
    "from tqdm import tqdm\n",
    "\n",
    "import pandas as pd\n",
    "import numpy as np\n",
    "\n",
    "def generate_combinations(alphabet, k):\n",
    "    if k == 0: return ['']\n",
    "        \n",
    "    combinations = []\n",
    "    for char in alphabet:\n",
    "        for suffix in generate_combinations(alphabet, k - 1):\n",
    "            combinations.append(char + suffix)\n",
    "    \n",
    "    return combinations"
   ]
  },
  {
   "cell_type": "code",
   "execution_count": 3,
   "id": "0b080858-0172-4864-a9bd-6a6e92bef742",
   "metadata": {},
   "outputs": [],
   "source": [
    "set_kmer = generate_combinations(alphabet=['A', 'C', 'G', 'T'], k=k)\n",
    "set_type = {kmer: np.float16 for kmer in set_kmer}"
   ]
  },
  {
   "cell_type": "code",
   "execution_count": 4,
   "id": "cd028d3f-0555-4ff1-be82-a05abed55e13",
   "metadata": {},
   "outputs": [],
   "source": [
    "dfData = pd.read_csv(f'data/DATA_benA_species_{k}mer.csv', dtype=set_type)"
   ]
  },
  {
   "cell_type": "code",
   "execution_count": 5,
   "id": "5c0daa68-795b-4e2b-8f6f-77e7c8816ae9",
   "metadata": {},
   "outputs": [
    {
     "name": "stdout",
     "output_type": "stream",
     "text": [
      "<class 'pandas.core.frame.DataFrame'>\n",
      "RangeIndex: 780 entries, 0 to 779\n",
      "Columns: 259 entries, Unnamed: 0 to TTTT\n",
      "dtypes: float16(256), int64(1), object(2)\n",
      "memory usage: 507.6 KB\n"
     ]
    }
   ],
   "source": [
    "dfData.info(memory_usage='deep')"
   ]
  },
  {
   "cell_type": "code",
   "execution_count": 6,
   "id": "efc7416a-6d4f-4f20-a12c-2a6d9bfdbeb3",
   "metadata": {},
   "outputs": [
    {
     "data": {
      "text/html": [
       "<div>\n",
       "<style scoped>\n",
       "    .dataframe tbody tr th:only-of-type {\n",
       "        vertical-align: middle;\n",
       "    }\n",
       "\n",
       "    .dataframe tbody tr th {\n",
       "        vertical-align: top;\n",
       "    }\n",
       "\n",
       "    .dataframe thead th {\n",
       "        text-align: right;\n",
       "    }\n",
       "</style>\n",
       "<table border=\"1\" class=\"dataframe\">\n",
       "  <thead>\n",
       "    <tr style=\"text-align: right;\">\n",
       "      <th></th>\n",
       "      <th>Unnamed: 0</th>\n",
       "      <th>Genus</th>\n",
       "      <th>Species</th>\n",
       "      <th>AAAA</th>\n",
       "      <th>AAAC</th>\n",
       "      <th>AAAG</th>\n",
       "      <th>AAAT</th>\n",
       "      <th>AACA</th>\n",
       "      <th>AACC</th>\n",
       "      <th>AACG</th>\n",
       "      <th>...</th>\n",
       "      <th>TTCG</th>\n",
       "      <th>TTCT</th>\n",
       "      <th>TTGA</th>\n",
       "      <th>TTGC</th>\n",
       "      <th>TTGG</th>\n",
       "      <th>TTGT</th>\n",
       "      <th>TTTA</th>\n",
       "      <th>TTTC</th>\n",
       "      <th>TTTG</th>\n",
       "      <th>TTTT</th>\n",
       "    </tr>\n",
       "  </thead>\n",
       "  <tbody>\n",
       "    <tr>\n",
       "      <th>0</th>\n",
       "      <td>0</td>\n",
       "      <td>Aspergillus</td>\n",
       "      <td>Aspergillus creber</td>\n",
       "      <td>0.396973</td>\n",
       "      <td>-0.303955</td>\n",
       "      <td>-1.004883</td>\n",
       "      <td>-0.303955</td>\n",
       "      <td>1.097656</td>\n",
       "      <td>0.396973</td>\n",
       "      <td>1.097656</td>\n",
       "      <td>...</td>\n",
       "      <td>0.396973</td>\n",
       "      <td>-0.303955</td>\n",
       "      <td>-1.004883</td>\n",
       "      <td>-0.303955</td>\n",
       "      <td>-0.303955</td>\n",
       "      <td>-1.004883</td>\n",
       "      <td>-1.004883</td>\n",
       "      <td>2.500000</td>\n",
       "      <td>0.396973</td>\n",
       "      <td>1.798828</td>\n",
       "    </tr>\n",
       "    <tr>\n",
       "      <th>1</th>\n",
       "      <td>1</td>\n",
       "      <td>Aspergillus</td>\n",
       "      <td>Aspergillus creber</td>\n",
       "      <td>0.319336</td>\n",
       "      <td>-0.373291</td>\n",
       "      <td>-1.066406</td>\n",
       "      <td>-0.373291</td>\n",
       "      <td>1.704102</td>\n",
       "      <td>-0.373291</td>\n",
       "      <td>1.011719</td>\n",
       "      <td>...</td>\n",
       "      <td>1.011719</td>\n",
       "      <td>-0.373291</td>\n",
       "      <td>-1.066406</td>\n",
       "      <td>-0.373291</td>\n",
       "      <td>-0.373291</td>\n",
       "      <td>-0.373291</td>\n",
       "      <td>-1.066406</td>\n",
       "      <td>2.396484</td>\n",
       "      <td>0.319336</td>\n",
       "      <td>0.319336</td>\n",
       "    </tr>\n",
       "    <tr>\n",
       "      <th>2</th>\n",
       "      <td>2</td>\n",
       "      <td>Aspergillus</td>\n",
       "      <td>Aspergillus creber</td>\n",
       "      <td>-0.218750</td>\n",
       "      <td>-0.218750</td>\n",
       "      <td>-0.965820</td>\n",
       "      <td>-0.965820</td>\n",
       "      <td>2.021484</td>\n",
       "      <td>-0.218750</td>\n",
       "      <td>1.274414</td>\n",
       "      <td>...</td>\n",
       "      <td>0.527832</td>\n",
       "      <td>-0.965820</td>\n",
       "      <td>-0.965820</td>\n",
       "      <td>-0.965820</td>\n",
       "      <td>-0.218750</td>\n",
       "      <td>-0.965820</td>\n",
       "      <td>-0.965820</td>\n",
       "      <td>-0.965820</td>\n",
       "      <td>-0.218750</td>\n",
       "      <td>-0.965820</td>\n",
       "    </tr>\n",
       "    <tr>\n",
       "      <th>3</th>\n",
       "      <td>3</td>\n",
       "      <td>Aspergillus</td>\n",
       "      <td>Aspergillus creber</td>\n",
       "      <td>-0.321045</td>\n",
       "      <td>-0.321045</td>\n",
       "      <td>-1.035156</td>\n",
       "      <td>-1.035156</td>\n",
       "      <td>1.822266</td>\n",
       "      <td>-0.321045</td>\n",
       "      <td>1.108398</td>\n",
       "      <td>...</td>\n",
       "      <td>1.108398</td>\n",
       "      <td>-1.035156</td>\n",
       "      <td>-1.035156</td>\n",
       "      <td>-0.321045</td>\n",
       "      <td>-0.321045</td>\n",
       "      <td>-1.035156</td>\n",
       "      <td>-1.035156</td>\n",
       "      <td>1.822266</td>\n",
       "      <td>0.393555</td>\n",
       "      <td>1.822266</td>\n",
       "    </tr>\n",
       "    <tr>\n",
       "      <th>4</th>\n",
       "      <td>4</td>\n",
       "      <td>Aspergillus</td>\n",
       "      <td>Aspergillus creber</td>\n",
       "      <td>0.306885</td>\n",
       "      <td>-0.358887</td>\n",
       "      <td>-1.024414</td>\n",
       "      <td>-0.358887</td>\n",
       "      <td>1.638672</td>\n",
       "      <td>0.306885</td>\n",
       "      <td>0.972656</td>\n",
       "      <td>...</td>\n",
       "      <td>0.306885</td>\n",
       "      <td>-0.358887</td>\n",
       "      <td>-1.024414</td>\n",
       "      <td>-0.358887</td>\n",
       "      <td>-0.358887</td>\n",
       "      <td>-1.024414</td>\n",
       "      <td>-1.024414</td>\n",
       "      <td>2.304688</td>\n",
       "      <td>0.306885</td>\n",
       "      <td>1.638672</td>\n",
       "    </tr>\n",
       "    <tr>\n",
       "      <th>...</th>\n",
       "      <td>...</td>\n",
       "      <td>...</td>\n",
       "      <td>...</td>\n",
       "      <td>...</td>\n",
       "      <td>...</td>\n",
       "      <td>...</td>\n",
       "      <td>...</td>\n",
       "      <td>...</td>\n",
       "      <td>...</td>\n",
       "      <td>...</td>\n",
       "      <td>...</td>\n",
       "      <td>...</td>\n",
       "      <td>...</td>\n",
       "      <td>...</td>\n",
       "      <td>...</td>\n",
       "      <td>...</td>\n",
       "      <td>...</td>\n",
       "      <td>...</td>\n",
       "      <td>...</td>\n",
       "      <td>...</td>\n",
       "      <td>...</td>\n",
       "    </tr>\n",
       "    <tr>\n",
       "      <th>775</th>\n",
       "      <td>775</td>\n",
       "      <td>Penicillium</td>\n",
       "      <td>Penicillium vagum</td>\n",
       "      <td>-0.465576</td>\n",
       "      <td>0.308350</td>\n",
       "      <td>-1.239258</td>\n",
       "      <td>1.082031</td>\n",
       "      <td>-0.465576</td>\n",
       "      <td>1.082031</td>\n",
       "      <td>1.082031</td>\n",
       "      <td>...</td>\n",
       "      <td>1.082031</td>\n",
       "      <td>-0.465576</td>\n",
       "      <td>1.082031</td>\n",
       "      <td>0.308350</td>\n",
       "      <td>1.856445</td>\n",
       "      <td>-0.465576</td>\n",
       "      <td>0.308350</td>\n",
       "      <td>0.308350</td>\n",
       "      <td>-0.465576</td>\n",
       "      <td>1.856445</td>\n",
       "    </tr>\n",
       "    <tr>\n",
       "      <th>776</th>\n",
       "      <td>776</td>\n",
       "      <td>Penicillium</td>\n",
       "      <td>Penicillium vagum</td>\n",
       "      <td>-1.180664</td>\n",
       "      <td>-0.443359</td>\n",
       "      <td>-1.180664</td>\n",
       "      <td>-0.443359</td>\n",
       "      <td>-1.180664</td>\n",
       "      <td>1.030273</td>\n",
       "      <td>1.030273</td>\n",
       "      <td>...</td>\n",
       "      <td>1.030273</td>\n",
       "      <td>-0.443359</td>\n",
       "      <td>1.030273</td>\n",
       "      <td>0.293701</td>\n",
       "      <td>1.767578</td>\n",
       "      <td>-0.443359</td>\n",
       "      <td>0.293701</td>\n",
       "      <td>0.293701</td>\n",
       "      <td>-0.443359</td>\n",
       "      <td>1.767578</td>\n",
       "    </tr>\n",
       "    <tr>\n",
       "      <th>777</th>\n",
       "      <td>777</td>\n",
       "      <td>Penicillium</td>\n",
       "      <td>Penicillium vagum</td>\n",
       "      <td>-1.263672</td>\n",
       "      <td>0.244507</td>\n",
       "      <td>-1.263672</td>\n",
       "      <td>0.244507</td>\n",
       "      <td>0.244507</td>\n",
       "      <td>0.998535</td>\n",
       "      <td>0.998535</td>\n",
       "      <td>...</td>\n",
       "      <td>0.998535</td>\n",
       "      <td>-0.509766</td>\n",
       "      <td>0.998535</td>\n",
       "      <td>0.244507</td>\n",
       "      <td>2.507812</td>\n",
       "      <td>-0.509766</td>\n",
       "      <td>0.244507</td>\n",
       "      <td>0.244507</td>\n",
       "      <td>-0.509766</td>\n",
       "      <td>1.752930</td>\n",
       "    </tr>\n",
       "    <tr>\n",
       "      <th>778</th>\n",
       "      <td>778</td>\n",
       "      <td>Penicillium</td>\n",
       "      <td>Penicillium vagum</td>\n",
       "      <td>-0.465576</td>\n",
       "      <td>0.308350</td>\n",
       "      <td>-1.239258</td>\n",
       "      <td>1.082031</td>\n",
       "      <td>-0.465576</td>\n",
       "      <td>1.082031</td>\n",
       "      <td>1.082031</td>\n",
       "      <td>...</td>\n",
       "      <td>1.082031</td>\n",
       "      <td>-0.465576</td>\n",
       "      <td>1.082031</td>\n",
       "      <td>0.308350</td>\n",
       "      <td>1.856445</td>\n",
       "      <td>-0.465576</td>\n",
       "      <td>0.308350</td>\n",
       "      <td>0.308350</td>\n",
       "      <td>-0.465576</td>\n",
       "      <td>1.856445</td>\n",
       "    </tr>\n",
       "    <tr>\n",
       "      <th>779</th>\n",
       "      <td>779</td>\n",
       "      <td>Penicillium</td>\n",
       "      <td>Penicillium vagum</td>\n",
       "      <td>-0.465576</td>\n",
       "      <td>0.308350</td>\n",
       "      <td>-1.239258</td>\n",
       "      <td>1.082031</td>\n",
       "      <td>-0.465576</td>\n",
       "      <td>1.082031</td>\n",
       "      <td>1.082031</td>\n",
       "      <td>...</td>\n",
       "      <td>1.082031</td>\n",
       "      <td>-0.465576</td>\n",
       "      <td>1.082031</td>\n",
       "      <td>0.308350</td>\n",
       "      <td>1.856445</td>\n",
       "      <td>-0.465576</td>\n",
       "      <td>0.308350</td>\n",
       "      <td>0.308350</td>\n",
       "      <td>-0.465576</td>\n",
       "      <td>1.856445</td>\n",
       "    </tr>\n",
       "  </tbody>\n",
       "</table>\n",
       "<p>780 rows × 259 columns</p>\n",
       "</div>"
      ],
      "text/plain": [
       "     Unnamed: 0        Genus             Species      AAAA      AAAC  \\\n",
       "0             0  Aspergillus  Aspergillus creber  0.396973 -0.303955   \n",
       "1             1  Aspergillus  Aspergillus creber  0.319336 -0.373291   \n",
       "2             2  Aspergillus  Aspergillus creber -0.218750 -0.218750   \n",
       "3             3  Aspergillus  Aspergillus creber -0.321045 -0.321045   \n",
       "4             4  Aspergillus  Aspergillus creber  0.306885 -0.358887   \n",
       "..          ...          ...                 ...       ...       ...   \n",
       "775         775  Penicillium   Penicillium vagum -0.465576  0.308350   \n",
       "776         776  Penicillium   Penicillium vagum -1.180664 -0.443359   \n",
       "777         777  Penicillium   Penicillium vagum -1.263672  0.244507   \n",
       "778         778  Penicillium   Penicillium vagum -0.465576  0.308350   \n",
       "779         779  Penicillium   Penicillium vagum -0.465576  0.308350   \n",
       "\n",
       "         AAAG      AAAT      AACA      AACC      AACG  ...      TTCG  \\\n",
       "0   -1.004883 -0.303955  1.097656  0.396973  1.097656  ...  0.396973   \n",
       "1   -1.066406 -0.373291  1.704102 -0.373291  1.011719  ...  1.011719   \n",
       "2   -0.965820 -0.965820  2.021484 -0.218750  1.274414  ...  0.527832   \n",
       "3   -1.035156 -1.035156  1.822266 -0.321045  1.108398  ...  1.108398   \n",
       "4   -1.024414 -0.358887  1.638672  0.306885  0.972656  ...  0.306885   \n",
       "..        ...       ...       ...       ...       ...  ...       ...   \n",
       "775 -1.239258  1.082031 -0.465576  1.082031  1.082031  ...  1.082031   \n",
       "776 -1.180664 -0.443359 -1.180664  1.030273  1.030273  ...  1.030273   \n",
       "777 -1.263672  0.244507  0.244507  0.998535  0.998535  ...  0.998535   \n",
       "778 -1.239258  1.082031 -0.465576  1.082031  1.082031  ...  1.082031   \n",
       "779 -1.239258  1.082031 -0.465576  1.082031  1.082031  ...  1.082031   \n",
       "\n",
       "         TTCT      TTGA      TTGC      TTGG      TTGT      TTTA      TTTC  \\\n",
       "0   -0.303955 -1.004883 -0.303955 -0.303955 -1.004883 -1.004883  2.500000   \n",
       "1   -0.373291 -1.066406 -0.373291 -0.373291 -0.373291 -1.066406  2.396484   \n",
       "2   -0.965820 -0.965820 -0.965820 -0.218750 -0.965820 -0.965820 -0.965820   \n",
       "3   -1.035156 -1.035156 -0.321045 -0.321045 -1.035156 -1.035156  1.822266   \n",
       "4   -0.358887 -1.024414 -0.358887 -0.358887 -1.024414 -1.024414  2.304688   \n",
       "..        ...       ...       ...       ...       ...       ...       ...   \n",
       "775 -0.465576  1.082031  0.308350  1.856445 -0.465576  0.308350  0.308350   \n",
       "776 -0.443359  1.030273  0.293701  1.767578 -0.443359  0.293701  0.293701   \n",
       "777 -0.509766  0.998535  0.244507  2.507812 -0.509766  0.244507  0.244507   \n",
       "778 -0.465576  1.082031  0.308350  1.856445 -0.465576  0.308350  0.308350   \n",
       "779 -0.465576  1.082031  0.308350  1.856445 -0.465576  0.308350  0.308350   \n",
       "\n",
       "         TTTG      TTTT  \n",
       "0    0.396973  1.798828  \n",
       "1    0.319336  0.319336  \n",
       "2   -0.218750 -0.965820  \n",
       "3    0.393555  1.822266  \n",
       "4    0.306885  1.638672  \n",
       "..        ...       ...  \n",
       "775 -0.465576  1.856445  \n",
       "776 -0.443359  1.767578  \n",
       "777 -0.509766  1.752930  \n",
       "778 -0.465576  1.856445  \n",
       "779 -0.465576  1.856445  \n",
       "\n",
       "[780 rows x 259 columns]"
      ]
     },
     "execution_count": 6,
     "metadata": {},
     "output_type": "execute_result"
    }
   ],
   "source": [
    "dfData"
   ]
  },
  {
   "cell_type": "code",
   "execution_count": 7,
   "id": "1d075b75-c680-4f73-a015-e379f2a14071",
   "metadata": {},
   "outputs": [
    {
     "name": "stdout",
     "output_type": "stream",
     "text": [
      "# genus  :  2\n",
      "# species:  39\n",
      "# samples:  780\n"
     ]
    }
   ],
   "source": [
    "print('# genus  : ', len(dfData['Genus'].unique()))\n",
    "print('# species: ', len(dfData['Species'].unique()))\n",
    "print('# samples: ', dfData.shape[0])"
   ]
  },
  {
   "cell_type": "code",
   "execution_count": 8,
   "id": "103f26ec-f961-4237-80b7-9b6061f926cf",
   "metadata": {},
   "outputs": [],
   "source": [
    "with open('data/species_common.txt', 'r') as f:\n",
    "    common_species = [species.strip().replace('_', ' ') for species in f.readlines()]"
   ]
  },
  {
   "cell_type": "code",
   "execution_count": 9,
   "id": "ce9f7437-21ac-4215-84fd-02ea4bf4ff7c",
   "metadata": {},
   "outputs": [],
   "source": [
    "dfData = dfData[dfData['Species'].isin(common_species)]"
   ]
  },
  {
   "cell_type": "code",
   "execution_count": 10,
   "id": "964db1bb-51ef-4aa1-ae71-28cf33db641a",
   "metadata": {},
   "outputs": [
    {
     "name": "stdout",
     "output_type": "stream",
     "text": [
      "# genus  :  2\n",
      "# species:  35\n",
      "# samples:  700\n"
     ]
    }
   ],
   "source": [
    "print('# genus  : ', len(dfData['Genus'].unique()))\n",
    "print('# species: ', len(dfData['Species'].unique()))\n",
    "print('# samples: ', dfData.shape[0])"
   ]
  },
  {
   "cell_type": "code",
   "execution_count": 11,
   "id": "ab804400-8a33-4227-8ed1-8a397d45b923",
   "metadata": {},
   "outputs": [
    {
     "name": "stdout",
     "output_type": "stream",
     "text": [
      "PyTorch 버전: 2.1.0\n",
      "CUDA 사용 가능 여부: True\n"
     ]
    }
   ],
   "source": [
    "import torch\n",
    "\n",
    "print(\"PyTorch 버전:\", torch.__version__)\n",
    "print(\"CUDA 사용 가능 여부:\", torch.cuda.is_available())"
   ]
  },
  {
   "cell_type": "code",
   "execution_count": 12,
   "id": "c4d37246-affc-48df-90cc-43c917cf6b18",
   "metadata": {},
   "outputs": [],
   "source": [
    "X = dfData.iloc[:, 3:].values\n",
    "input_size = X.shape[1]"
   ]
  },
  {
   "cell_type": "code",
   "execution_count": 13,
   "id": "46447d49-43a0-45e3-a98c-0209e2834489",
   "metadata": {},
   "outputs": [
    {
     "data": {
      "text/plain": [
       "(700, 256)"
      ]
     },
     "execution_count": 13,
     "metadata": {},
     "output_type": "execute_result"
    }
   ],
   "source": [
    "X.shape"
   ]
  },
  {
   "cell_type": "code",
   "execution_count": 227,
   "id": "83ee1b43-b710-4093-8dbc-7a876f81b1c6",
   "metadata": {},
   "outputs": [
    {
     "name": "stderr",
     "output_type": "stream",
     "text": [
      "/disk1/01.Myeongkyu/anaconda3/envs/pytorch/lib/python3.11/site-packages/sklearn/utils/validation.py:605: FutureWarning: is_sparse is deprecated and will be removed in a future version. Check `isinstance(dtype, pd.SparseDtype)` instead.\n",
      "  if is_sparse(pd_dtype):\n",
      "/disk1/01.Myeongkyu/anaconda3/envs/pytorch/lib/python3.11/site-packages/sklearn/utils/validation.py:614: FutureWarning: is_sparse is deprecated and will be removed in a future version. Check `isinstance(dtype, pd.SparseDtype)` instead.\n",
      "  if is_sparse(pd_dtype) or not is_extension_array_dtype(pd_dtype):\n"
     ]
    }
   ],
   "source": [
    "from sklearn.preprocessing import LabelEncoder\n",
    "label_encoder = LabelEncoder()\n",
    "\n",
    "y = dfData['Species']\n",
    "y_encoded = label_encoder.fit_transform(y)\n",
    "num_classes = max(y_encoded) + 1"
   ]
  },
  {
   "cell_type": "code",
   "execution_count": 18,
   "id": "dd4a876c-2d56-4d05-beda-3447b381d0a0",
   "metadata": {},
   "outputs": [],
   "source": [
    "import torch.nn as nn\n",
    "import torch.optim as optim"
   ]
  },
  {
   "cell_type": "code",
   "execution_count": 19,
   "id": "9318a12d-59a7-4828-a53d-ba149d648465",
   "metadata": {},
   "outputs": [],
   "source": [
    "def conv1x3(in_planes, out_planes, stride=1, groups=1, dilation=1):\n",
    "    return nn.Conv1d(in_planes, out_planes, kernel_size=3, stride=stride, padding=dilation,\n",
    "                     groups=groups, bias=False, dilation=dilation)\n",
    "\n",
    "\n",
    "class MyBlock1D(nn.Module):\n",
    "    def __init__(self, in_planes, planes, stride=1, downsample=None,\n",
    "                groups=1, dilation=1, norm_layer=None):\n",
    "        super(MyBlock1D, self).__init__()\n",
    "\n",
    "        if norm_layer is None:\n",
    "            norm_layer = nn.BatchNorm1d\n",
    "        \n",
    "        self.conv1 = conv1x3(in_planes, planes, stride)\n",
    "        self.bn1 = norm_layer(planes)\n",
    "        self.conv2 = conv1x3(planes, planes)\n",
    "        self.bn2 = norm_layer(planes)\n",
    "        \n",
    "        self.relu = nn.ReLU(inplace=True)\n",
    "        self.downsample = downsample\n",
    "        \n",
    "    def forward(self, x):\n",
    "        if self.downsample is not None:\n",
    "            residual = self.downsample(x)\n",
    "        else: residual = x\n",
    "        \n",
    "        x = self.conv1(x)\n",
    "        x = self.bn1(x)\n",
    "        x = self.relu(x)\n",
    "        \n",
    "        x = self.conv2(x)\n",
    "        x = self.bn2(x)\n",
    "\n",
    "        x += residual\n",
    "        x = self.relu(x)\n",
    "        \n",
    "        return x\n",
    "\n",
    "class MyResNet(nn.Module):\n",
    "    def __init__(self, c1, c2, c3, c4, c5, kernel1,\n",
    "                 block, layers, num_classes, zero_init_residual=False, norm_layer=None):\n",
    "        super(MyResNet, self).__init__()\n",
    "        if norm_layer is None:\n",
    "            norm_layer = nn.BatchNorm1d\n",
    "        self._norm_layer = norm_layer\n",
    "\n",
    "        self.inplanes = c1\n",
    "        self.dilation = 1\n",
    "        self.groups = 1\n",
    "        \n",
    "        self.conv1 = nn.Conv1d(1, self.inplanes, kernel_size=kernel1, stride=2, padding=3)\n",
    "        self.bn1 = norm_layer(c1)\n",
    "        self.relu = nn.ReLU(inplace=True)\n",
    "        self.maxpool = nn.MaxPool1d(kernel_size=3, stride=2, padding=1)\n",
    "\n",
    "        self.layer1 = self._make_layer(block, c2, layers[0])\n",
    "        self.layer2 = self._make_layer(block, c3, layers[1], stride=2, dilate=False)\n",
    "        self.layer3 = self._make_layer(block, c4, layers[2], stride=2, dilate=False)\n",
    "        self.layer4 = self._make_layer(block, c5, layers[3], stride=2, dilate=False)\n",
    "        \n",
    "        self.avgpool = nn.AdaptiveAvgPool1d(1)\n",
    "        self.fc = nn.Linear(c5, num_classes)\n",
    "\n",
    "        for m in self.modules():\n",
    "            if isinstance(m, nn.Conv1d):\n",
    "                nn.init.kaiming_normal_(m.weight, mode='fan_out', nonlinearity='relu')\n",
    "            elif isinstance(m, (nn.BatchNorm2d, nn.GroupNorm)):\n",
    "                nn.init.constant_(m.weight, 1)\n",
    "                nn.init.constant_(m.bias, 0)\n",
    "\n",
    "        if zero_init_residual:\n",
    "            for m in self.modules():\n",
    "                if isinstance(m, MyBlock1D):\n",
    "                    nn.init.constant_(m.bn2.weight, 0)\n",
    "\n",
    "    def _make_layer(self, block, planes, blocks, stride=1, dilate=False):\n",
    "        norm_layer = self._norm_layer\n",
    "        downsample = None\n",
    "\n",
    "        if stride != 1 or self.inplanes != planes:\n",
    "            downsample = nn.Sequential(\n",
    "                nn.Conv1d(self.inplanes, planes, kernel_size=1, stride=stride),\n",
    "                norm_layer(planes),\n",
    "            )\n",
    "\n",
    "        layers = []\n",
    "        layers.append(block(self.inplanes, planes, stride, downsample, self.groups, self.dilation, norm_layer))\n",
    "        self.inplanes = planes\n",
    "\n",
    "        for _ in range(1, blocks):\n",
    "            layers.append(block(self.inplanes, planes, groups=self.groups, dilation=self.dilation, norm_layer=norm_layer))\n",
    "\n",
    "        return nn.Sequential(*layers)\n",
    "    \n",
    "    def forward(self, x):\n",
    "        x = self.conv1(x)\n",
    "        x = self.bn1(x)\n",
    "        x = self.relu(x)\n",
    "        x = self.maxpool(x)\n",
    "        \n",
    "        x = self.layer1(x)\n",
    "        x = self.layer2(x)\n",
    "        x = self.layer3(x)\n",
    "        x = self.layer4(x)\n",
    "        \n",
    "        x = self.avgpool(x)\n",
    "        x = x.view(x.size(0), -1)\n",
    "        x = self.fc(x)\n",
    "        \n",
    "        return x"
   ]
  },
  {
   "cell_type": "code",
   "execution_count": 20,
   "id": "03d02d0e-70c4-4df6-9abf-63c30d8b6046",
   "metadata": {},
   "outputs": [],
   "source": [
    "from torch.utils.data import DataLoader, TensorDataset"
   ]
  },
  {
   "cell_type": "code",
   "execution_count": 21,
   "id": "cb7c04fe-5f63-48af-8aa3-78090e414876",
   "metadata": {},
   "outputs": [],
   "source": [
    "X_tensor = torch.from_numpy(X).float().unsqueeze(1)\n",
    "y_tensor = torch.from_numpy(y_encoded).long()"
   ]
  },
  {
   "cell_type": "code",
   "execution_count": 22,
   "id": "1965bee4-28bc-492e-9fe1-056c2b1c865a",
   "metadata": {},
   "outputs": [],
   "source": [
    "from sklearn.metrics import accuracy_score"
   ]
  },
  {
   "cell_type": "code",
   "execution_count": 23,
   "id": "68bb8bb1-1b29-481b-b4b4-5b1860e66bfc",
   "metadata": {},
   "outputs": [],
   "source": [
    "num_samples = X.shape[0]\n",
    "\n",
    "from sklearn.model_selection import train_test_split\n",
    "from sklearn.model_selection import StratifiedKFold\n",
    "\n",
    "n_folds = 10\n",
    "kf = StratifiedKFold(n_splits=n_folds, shuffle=True, random_state=42)"
   ]
  },
  {
   "cell_type": "code",
   "execution_count": 24,
   "id": "726813cd-3d47-4ecb-9861-ad5a63862f77",
   "metadata": {},
   "outputs": [],
   "source": [
    "import time"
   ]
  },
  {
   "cell_type": "code",
   "execution_count": 44,
   "id": "77f880db-3efd-4cec-ba04-23da944b95ba",
   "metadata": {
    "scrolled": true
   },
   "outputs": [
    {
     "name": "stderr",
     "output_type": "stream",
     "text": [
      "  0%|                                                                                                                                                                                 | 0/100 [00:00<?, ?it/s]"
     ]
    },
    {
     "name": "stdout",
     "output_type": "stream",
     "text": [
      "tensor(0.0286, device='cuda:0', dtype=torch.float64)\n",
      "tensor(0.0857, device='cuda:0', dtype=torch.float64)\n"
     ]
    },
    {
     "name": "stderr",
     "output_type": "stream",
     "text": [
      "  2%|███▍                                                                                                                                                                     | 2/100 [00:00<00:13,  7.24it/s]"
     ]
    },
    {
     "name": "stdout",
     "output_type": "stream",
     "text": [
      "tensor(0.1571, device='cuda:0', dtype=torch.float64)\n"
     ]
    },
    {
     "name": "stderr",
     "output_type": "stream",
     "text": [
      "  7%|███████████▊                                                                                                                                                             | 7/100 [00:00<00:06, 13.45it/s]"
     ]
    },
    {
     "name": "stdout",
     "output_type": "stream",
     "text": [
      "tensor(0.2000, device='cuda:0', dtype=torch.float64)\n"
     ]
    },
    {
     "name": "stderr",
     "output_type": "stream",
     "text": [
      " 12%|████████████████████▏                                                                                                                                                   | 12/100 [00:00<00:06, 14.25it/s]"
     ]
    },
    {
     "name": "stdout",
     "output_type": "stream",
     "text": [
      "tensor(0.2286, device='cuda:0', dtype=torch.float64)\n"
     ]
    },
    {
     "name": "stderr",
     "output_type": "stream",
     "text": [
      " 14%|███████████████████████▌                                                                                                                                                | 14/100 [00:01<00:07, 11.37it/s]"
     ]
    },
    {
     "name": "stdout",
     "output_type": "stream",
     "text": [
      "tensor(0.2429, device='cuda:0', dtype=torch.float64)\n"
     ]
    },
    {
     "name": "stderr",
     "output_type": "stream",
     "text": [
      " 16%|██████████████████████████▉                                                                                                                                             | 16/100 [00:01<00:08,  9.96it/s]"
     ]
    },
    {
     "name": "stdout",
     "output_type": "stream",
     "text": [
      "tensor(0.2571, device='cuda:0', dtype=torch.float64)\n",
      "tensor(0.2714, device='cuda:0', dtype=torch.float64)\n"
     ]
    },
    {
     "name": "stderr",
     "output_type": "stream",
     "text": [
      " 18%|██████████████████████████████▏                                                                                                                                         | 18/100 [00:02<00:11,  7.18it/s]"
     ]
    },
    {
     "name": "stdout",
     "output_type": "stream",
     "text": [
      "tensor(0.3143, device='cuda:0', dtype=torch.float64)\n"
     ]
    },
    {
     "name": "stderr",
     "output_type": "stream",
     "text": [
      " 21%|███████████████████████████████████▎                                                                                                                                    | 21/100 [00:02<00:09,  8.00it/s]"
     ]
    },
    {
     "name": "stdout",
     "output_type": "stream",
     "text": [
      "tensor(0.4000, device='cuda:0', dtype=torch.float64)\n"
     ]
    },
    {
     "name": "stderr",
     "output_type": "stream",
     "text": [
      " 22%|████████████████████████████████████▉                                                                                                                                   | 22/100 [00:02<00:11,  6.92it/s]"
     ]
    },
    {
     "name": "stdout",
     "output_type": "stream",
     "text": [
      "tensor(0.4857, device='cuda:0', dtype=torch.float64)\n"
     ]
    },
    {
     "name": "stderr",
     "output_type": "stream",
     "text": [
      " 23%|██████████████████████████████████████▋                                                                                                                                 | 23/100 [00:02<00:12,  6.14it/s]"
     ]
    },
    {
     "name": "stdout",
     "output_type": "stream",
     "text": [
      "tensor(0.5429, device='cuda:0', dtype=torch.float64)\n"
     ]
    },
    {
     "name": "stderr",
     "output_type": "stream",
     "text": [
      " 24%|████████████████████████████████████████▎                                                                                                                               | 24/100 [00:03<00:13,  5.51it/s]"
     ]
    },
    {
     "name": "stdout",
     "output_type": "stream",
     "text": [
      "tensor(0.6429, device='cuda:0', dtype=torch.float64)\n"
     ]
    },
    {
     "name": "stderr",
     "output_type": "stream",
     "text": [
      " 25%|██████████████████████████████████████████                                                                                                                              | 25/100 [00:03<00:14,  5.04it/s]"
     ]
    },
    {
     "name": "stdout",
     "output_type": "stream",
     "text": [
      "tensor(0.7143, device='cuda:0', dtype=torch.float64)\n"
     ]
    },
    {
     "name": "stderr",
     "output_type": "stream",
     "text": [
      " 26%|███████████████████████████████████████████▋                                                                                                                            | 26/100 [00:03<00:15,  4.71it/s]"
     ]
    },
    {
     "name": "stdout",
     "output_type": "stream",
     "text": [
      "tensor(0.7714, device='cuda:0', dtype=torch.float64)\n"
     ]
    },
    {
     "name": "stderr",
     "output_type": "stream",
     "text": [
      " 27%|█████████████████████████████████████████████▎                                                                                                                          | 27/100 [00:03<00:16,  4.47it/s]"
     ]
    },
    {
     "name": "stdout",
     "output_type": "stream",
     "text": [
      "tensor(0.8286, device='cuda:0', dtype=torch.float64)\n"
     ]
    },
    {
     "name": "stderr",
     "output_type": "stream",
     "text": [
      " 28%|███████████████████████████████████████████████                                                                                                                         | 28/100 [00:04<00:16,  4.32it/s]"
     ]
    },
    {
     "name": "stdout",
     "output_type": "stream",
     "text": [
      "tensor(0.8571, device='cuda:0', dtype=torch.float64)\n"
     ]
    },
    {
     "name": "stderr",
     "output_type": "stream",
     "text": [
      " 29%|████████████████████████████████████████████████▋                                                                                                                       | 29/100 [00:04<00:16,  4.22it/s]"
     ]
    },
    {
     "name": "stdout",
     "output_type": "stream",
     "text": [
      "tensor(0.9286, device='cuda:0', dtype=torch.float64)\n"
     ]
    },
    {
     "name": "stderr",
     "output_type": "stream",
     "text": [
      " 30%|██████████████████████████████████████████████████▍                                                                                                                     | 30/100 [00:04<00:17,  4.11it/s]"
     ]
    },
    {
     "name": "stdout",
     "output_type": "stream",
     "text": [
      "tensor(0.9571, device='cuda:0', dtype=torch.float64)\n"
     ]
    },
    {
     "name": "stderr",
     "output_type": "stream",
     "text": [
      " 31%|████████████████████████████████████████████████████                                                                                                                    | 31/100 [00:04<00:17,  4.03it/s]"
     ]
    },
    {
     "name": "stdout",
     "output_type": "stream",
     "text": [
      "tensor(0.9714, device='cuda:0', dtype=torch.float64)\n"
     ]
    },
    {
     "name": "stderr",
     "output_type": "stream",
     "text": [
      " 38%|███████████████████████████████████████████████████████████████▊                                                                                                        | 38/100 [00:05<00:05, 10.42it/s]"
     ]
    },
    {
     "name": "stdout",
     "output_type": "stream",
     "text": [
      "tensor(0.9857, device='cuda:0', dtype=torch.float64)\n"
     ]
    },
    {
     "name": "stderr",
     "output_type": "stream",
     "text": [
      "100%|███████████████████████████████████████████████████████████████████████████████████████████████████████████████████████████████████████████████████████████████████████| 100/100 [00:06<00:00, 14.45it/s]\n",
      "100%|███████████████████████████████████████████████████████████████████████████████████████████████████████████████████████████████████████████████████████████████████████| 100/100 [00:02<00:00, 43.86it/s]\n",
      " 30%|██████████████████████████████████████████████████▍                                                                                                                     | 30/100 [00:00<00:01, 44.86it/s]"
     ]
    },
    {
     "name": "stdout",
     "output_type": "stream",
     "text": [
      "tensor(1., device='cuda:0', dtype=torch.float64)\n"
     ]
    },
    {
     "name": "stderr",
     "output_type": "stream",
     "text": [
      "100%|███████████████████████████████████████████████████████████████████████████████████████████████████████████████████████████████████████████████████████████████████████| 100/100 [00:02<00:00, 39.98it/s]\n",
      "100%|███████████████████████████████████████████████████████████████████████████████████████████████████████████████████████████████████████████████████████████████████████| 100/100 [00:02<00:00, 44.93it/s]\n",
      "100%|███████████████████████████████████████████████████████████████████████████████████████████████████████████████████████████████████████████████████████████████████████| 100/100 [00:02<00:00, 44.88it/s]\n",
      "100%|███████████████████████████████████████████████████████████████████████████████████████████████████████████████████████████████████████████████████████████████████████| 100/100 [00:02<00:00, 43.79it/s]\n",
      "100%|███████████████████████████████████████████████████████████████████████████████████████████████████████████████████████████████████████████████████████████████████████| 100/100 [00:02<00:00, 44.85it/s]\n",
      "100%|███████████████████████████████████████████████████████████████████████████████████████████████████████████████████████████████████████████████████████████████████████| 100/100 [00:02<00:00, 44.88it/s]\n",
      "100%|███████████████████████████████████████████████████████████████████████████████████████████████████████████████████████████████████████████████████████████████████████| 100/100 [00:02<00:00, 43.95it/s]\n",
      "100%|███████████████████████████████████████████████████████████████████████████████████████████████████████████████████████████████████████████████████████████████████████| 100/100 [00:02<00:00, 44.96it/s]\n"
     ]
    }
   ],
   "source": [
    "import copy\n",
    "\n",
    "from sklearn.metrics import accuracy_score\n",
    "device = torch.device(\"cuda\" if torch.cuda.is_available() else \"cpu\")\n",
    "\n",
    "n_iter = 0\n",
    "best_acc = 0\n",
    "\n",
    "train_acc_list = []\n",
    "val_acc_list = []\n",
    "test_acc_list = []\n",
    "time_list = []\n",
    "\n",
    "# **** hyperparameters ****\n",
    "c1 = 32\n",
    "c2 = 64\n",
    "c3 = 256\n",
    "c4 = 512\n",
    "c5 = 1024\n",
    "kernel1 = 7\n",
    "# *************************\n",
    "\n",
    "name = f'species_RESNET18_benA_{k}mer_{c1},{c2},{c3},{c4},{c5},{kernel1}'\n",
    "directory = 'new_results/' + name\n",
    "\n",
    "for train_index, test_index in kf.split(X_tensor, y_tensor):\n",
    "    fold_test_answer_list = []\n",
    "    n_iter += 1\n",
    "    \n",
    "    X_temp, X_test = X_tensor[train_index], X_tensor[test_index]\n",
    "    y_temp, y_test = y_tensor[train_index], y_tensor[test_index]\n",
    "\n",
    "    X_train, X_val, y_train, y_val = train_test_split(X_temp, y_temp, test_size=0.1)\n",
    "    \n",
    "    train_dataset = TensorDataset(X_train, y_train)\n",
    "    val_dataset = TensorDataset(X_val, y_val)\n",
    "    test_dataset = TensorDataset(X_test, y_test)\n",
    "    \n",
    "    batch_size = 1024\n",
    "    train_DL = DataLoader(train_dataset, batch_size=batch_size, shuffle=True)\n",
    "    val_DL = DataLoader(val_dataset, batch_size=batch_size, shuffle=True)\n",
    "    test_DL = DataLoader(test_dataset, batch_size=batch_size, shuffle=True)\n",
    "\n",
    "    DL_dict = {'train': train_DL, 'val': val_DL}\n",
    "    \n",
    "    model = MyResNet(c1, c2, c3, c4, c5, kernel1,\n",
    "                    MyBlock1D, [2,2,2,2], num_classes=num_classes)\n",
    "    criterion = nn.CrossEntropyLoss()\n",
    "    optimizer = optim.Adam(model.parameters(), lr=0.001)\n",
    "\n",
    "    model.to(device)\n",
    "\n",
    "    num_epochs = 100\n",
    "\n",
    "    epoch_train_acc_list = []\n",
    "    epoch_val_acc_list = []\n",
    "    epoch_test_acc_list = []\n",
    "    epoch_time_list = []\n",
    "    \n",
    "    for epoch in tqdm(range(num_epochs)):\n",
    "        fold_test_answer_list.append(f'----- Epoch {epoch+1} -----\\n')\n",
    "        epoch_test_answer_list = []\n",
    "        time_st = time.time()\n",
    "        \n",
    "        for phase in ['train', 'val']:\n",
    "            if phase == 'train': model.train()\n",
    "            else: model.eval()\n",
    "            epoch_corrects = 0\n",
    "            \n",
    "            for inputs, labels in DL_dict[phase]:\n",
    "                inputs, labels = inputs.to(device), labels.to(device)\n",
    "                optimizer.zero_grad()\n",
    "    \n",
    "                with torch.set_grad_enabled(phase == 'train'):\n",
    "                    outputs = model(inputs)\n",
    "                    _, preds = torch.max(outputs, 1)\n",
    "                    loss = criterion(outputs, labels)\n",
    "    \n",
    "                    if phase == 'train':\n",
    "                        loss.backward()\n",
    "                        optimizer.step()\n",
    "    \n",
    "                    epoch_corrects += torch.sum(preds == labels.data)\n",
    "                    \n",
    "            epoch_acc = epoch_corrects.double() / len(DL_dict[phase].dataset)\n",
    "            if phase == 'train': epoch_train_acc_list.append(str(epoch_acc.item()))\n",
    "            else: epoch_val_acc_list.append(str(epoch_acc.item()))\n",
    "\n",
    "        model.eval()\n",
    "        test_corrects = 0\n",
    "        with torch.no_grad():\n",
    "            for inputs, labels in test_DL:\n",
    "                inputs, labels = inputs.to(device), labels.to(device)\n",
    "                outputs = model(inputs)\n",
    "                _, preds = torch.max(outputs, 1)\n",
    "                test_corrects += torch.sum(preds == labels.data)\n",
    "\n",
    "                preds_list = preds.tolist()\n",
    "                label_list = labels.tolist()\n",
    "                for i in range(len(preds_list)):\n",
    "                    epoch_test_answer_list.append(f'{label_list[i]},{preds_list[i]}')\n",
    "                    \n",
    "            test_acc = test_corrects.double() / len(test_DL.dataset)\n",
    "            # print(f'Fold {n_iter} test Acc: {test_acc:.6f}, {time.time() - time_st} s') \n",
    "                \n",
    "        epoch_test_acc_list.append(str(test_acc.item()))\n",
    "        epoch_time_list.append(str(time.time() - time_st))\n",
    "        fold_test_answer_list.append('\\n'.join(epoch_test_answer_list))\n",
    "        fold_test_answer_list.append('\\n')\n",
    "\n",
    "    train_acc_list.append(','.join(epoch_train_acc_list) + '\\n')\n",
    "    val_acc_list.append(','.join(epoch_val_acc_list) + '\\n')\n",
    "    test_acc_list.append(','.join(epoch_test_acc_list) + '\\n')\n",
    "    \n",
    "    time_list.append(','.join(epoch_time_list) + '\\n')\n",
    "\n",
    "    if not os.path.isdir(directory):\n",
    "        os.mkdir(directory)\n",
    "\n",
    "    with open(directory + f'/Fold_{n_iter:02}.csv', 'w') as f:\n",
    "        f.write(''.join(fold_test_answer_list))\n",
    "        \n",
    "\n",
    "with open(directory + '/train_acc.csv', 'w') as f:\n",
    "    f.write(''.join(train_acc_list))\n",
    "\n",
    "with open(directory + '/val_acc.csv', 'w') as f:\n",
    "    f.write(''.join(val_acc_list))\n",
    "\n",
    "with open(directory + '/test_acc.csv', 'w') as f:\n",
    "    f.write(''.join(test_acc_list))\n",
    "\n",
    "with open(directory + '/times.csv', 'w') as f:\n",
    "    f.write(','.join(time_list))"
   ]
  },
  {
   "cell_type": "code",
   "execution_count": 45,
   "id": "539528c7-05a5-4b38-8df4-15fa495f9bc8",
   "metadata": {},
   "outputs": [],
   "source": [
    "import joblib"
   ]
  },
  {
   "cell_type": "code",
   "execution_count": 46,
   "id": "5ac2874a-3a47-4989-8382-5e63b980ac74",
   "metadata": {},
   "outputs": [
    {
     "data": {
      "text/plain": [
       "['data/label_encoder_benA.pkl']"
      ]
     },
     "execution_count": 46,
     "metadata": {},
     "output_type": "execute_result"
    }
   ],
   "source": [
    "joblib.dump(label_encoder, 'data/label_encoder_benA.pkl')"
   ]
  },
  {
   "cell_type": "code",
   "execution_count": 47,
   "id": "492fb10a-1dad-4b80-9c21-b90e4cce1fdf",
   "metadata": {},
   "outputs": [],
   "source": [
    "from collections import Counter\n",
    "from itertools import product\n",
    "\n",
    "def count_kmers(sequence, k, possible_kmers):\n",
    "    kmer_counts = Counter(sequence[i:i+k] for i in range(len(sequence) - k + 1))\n",
    "    return np.array([kmer_counts.get(kmer, 0) for kmer in possible_kmers], dtype=np.int16)\n",
    "\n",
    "k = 4\n",
    "possible_kmers = [''.join(kmer) for kmer in product('ACGT', repeat=k)]\n",
    "\n",
    "def gaussian_normalize(lst):\n",
    "    mean = np.mean(lst)\n",
    "    std = np.std(lst)\n",
    "    normalized_lst = np.array([(x - mean) / std for x in lst], dtype=np.float32)\n",
    "    return normalized_lst"
   ]
  },
  {
   "cell_type": "code",
   "execution_count": 186,
   "id": "6ce27fac-7ac5-46bf-8410-a63f43c25409",
   "metadata": {},
   "outputs": [],
   "source": [
    "seq = \"\"\"ATGTTGTGCCTAAAAACCCCCCCTGTCCCCTTTAGGAGACGCGTCGATTCGGGCTCTCCC\n",
    "TGGATAGAAGAACCCCACTTGTTCCTCAAGAATGCAGCTTAGCTAACTCgttttttttta\n",
    "ttctaCAGGTTCACCTTCAGACCGGTCAGTGTGTAAGTACTGCCCGCCGTGGGTGAAGAA\n",
    "GCATAGGGATGGTGTTTGCATTGAGCAGAAGCTAAACTTGATTCTTGGTGACAGGGTAAC\n",
    "CAAATTGGTGCCGCTTTCTGGTATGTCTTGACCTCAAAGCTTGGATGACGGGTGATTGGG\n",
    "ATCTCTCATCTTAGCAGGCTACCTCCATGGGTTCAGCCTCACTGTCATGGGTATCAGCTA\n",
    "ACAAATCTACAGGCAGACCATCTCTGGTGAGCATGGCCTTGACGGCTCTGGCCAGTAAGT\n",
    "TCGACCTATATCCTCCCAATTGAGAAAGCGGCGGAAACACGGAAAACAAGGAAGAAGCGG\n",
    "ACGCGTGTCTGATGGGAAATAATAGCTACAATGGCTCCTCCGATCTCCAGCTGGAGCGTA\n",
    "TGAACGTCTATTTCAACGAGGTGTGTGGATGAAACTCTTGATTTATACTATTTCGGCAAC\n",
    "ATCTCACGATCTGACTCGCTACTAGGCCAACGGTGACAAATATGTTCCTCGTGCCGTTCT\n",
    "GGTCGATCTCGAGCCTGGTACCATGGACGCTGTCCGTGCCGGTCCCTTCGGCGAGCTATT\n",
    "CCGTCCCGACAACTTCGTCTTCGGCCAGTCCGGTGCTGGTAACAACTGG\"\"\""
   ]
  },
  {
   "cell_type": "code",
   "execution_count": 187,
   "id": "c8231b22-d911-4c99-abbf-23415cd929f6",
   "metadata": {},
   "outputs": [
    {
     "data": {
      "text/plain": [
       "array(['Aspergillus fumigatus'], dtype=object)"
      ]
     },
     "execution_count": 187,
     "metadata": {},
     "output_type": "execute_result"
    }
   ],
   "source": [
    "seq = seq.replace('\\n', '').upper()\n",
    "\n",
    "kmers = count_kmers(seq, k, possible_kmers)\n",
    "\n",
    "temp = torch.from_numpy(gaussian_normalize(kmers))\n",
    "temp = temp.reshape(1, 1, temp.shape[0])\n",
    "\n",
    "temp = temp.to(device)\n",
    "\n",
    "_, predicted = torch.max(model(temp), 1)\n",
    "label_encoder.inverse_transform(predicted.cpu().numpy())"
   ]
  },
  {
   "cell_type": "code",
   "execution_count": 163,
   "id": "2358ebf7-51d3-4a25-a10e-d39b6540616a",
   "metadata": {},
   "outputs": [],
   "source": [
    "from sklearn.manifold import TSNE\n",
    "import matplotlib.pyplot as plt\n",
    "from sklearn.preprocessing import StandardScaler"
   ]
  },
  {
   "cell_type": "code",
   "execution_count": 236,
   "id": "688dd8d8-1d54-4b8b-b219-c8c081472f9d",
   "metadata": {},
   "outputs": [],
   "source": [
    "dfTemp = dfData[dfData['Species'].isin(['Aspergillus flavus', 'Aspergillus fumigatus', 'Aspergillus nomiae'])]\n",
    "dfTemp = dfTemp.reset_index(drop=True)\n",
    "\n",
    "X = dfTemp.drop(['Unnamed: 0', 'Genus', 'Species'], axis=1)\n",
    "y = dfTemp['Species']\n",
    "\n",
    "#y_pred = label_encoder.inverse_transform(predicted.cpu().numpy())\n",
    "\n",
    "X.loc[len(X)] = gaussian_normalize(kmers)\n",
    "y.loc[len(y)] = 'Aspergillus_fumigatus_test'\n",
    "\n",
    "scaler = StandardScaler()\n",
    "X_scaled = scaler.fit_transform(X.values)\n",
    "tsne = TSNE(n_components=2, random_state=42)\n",
    "X_tsne = tsne.fit_transform(X_scaled)\n",
    "\n",
    "X = torch.from_numpy(gaussian_normalize(X.values))\n",
    "X = X.reshape(61, 1, 256)\n",
    "X = X.to(device)\n",
    "_, predicted = torch.max(model(X), 1)"
   ]
  },
  {
   "cell_type": "code",
   "execution_count": 211,
   "id": "740d0dea-faeb-460c-adda-6919ca5a6c8e",
   "metadata": {},
   "outputs": [
    {
     "name": "stderr",
     "output_type": "stream",
     "text": [
      "/disk1/01.Myeongkyu/anaconda3/envs/pytorch/lib/python3.11/site-packages/sklearn/utils/validation.py:605: FutureWarning: is_sparse is deprecated and will be removed in a future version. Check `isinstance(dtype, pd.SparseDtype)` instead.\n",
      "  if is_sparse(pd_dtype):\n",
      "/disk1/01.Myeongkyu/anaconda3/envs/pytorch/lib/python3.11/site-packages/sklearn/utils/validation.py:614: FutureWarning: is_sparse is deprecated and will be removed in a future version. Check `isinstance(dtype, pd.SparseDtype)` instead.\n",
      "  if is_sparse(pd_dtype) or not is_extension_array_dtype(pd_dtype):\n",
      "/tmp/ipykernel_204464/3249994685.py:14: MatplotlibDeprecationWarning: The get_cmap function was deprecated in Matplotlib 3.7 and will be removed two minor releases later. Use ``matplotlib.colormaps[name]`` or ``matplotlib.colormaps.get_cmap(obj)`` instead.\n",
      "  colors = plt.cm.get_cmap('viridis', len(np.unique(y_pred)))\n",
      "/tmp/ipykernel_204464/3249994685.py:18: MatplotlibDeprecationWarning: The get_cmap function was deprecated in Matplotlib 3.7 and will be removed two minor releases later. Use ``matplotlib.colormaps[name]`` or ``matplotlib.colormaps.get_cmap(obj)`` instead.\n",
      "  hsv_modified = cm.get_cmap('hsv', 500)\n",
      "No artists with labels found to put in legend.  Note that artists whose label start with an underscore are ignored when legend() is called with no argument.\n"
     ]
    },
    {
     "data": {
      "image/png": "[encoded data removed]",
      "text/plain": [
       "<Figure size 800x700 with 1 Axes>"
      ]
     },
     "metadata": {},
     "output_type": "display_data"
    }
   ],
   "source": [
    "import matplotlib.pyplot as plt\n",
    "import numpy as np\n",
    "from matplotlib import cm\n",
    "from matplotlib.colors import ListedColormap\n",
    "\n",
    "predicted_np = predicted.cpu().numpy()\n",
    "y_encoded = label_encoder.fit_transform(y)\n",
    "\n",
    "markers = ['o', 's', '^', 'P', 'D', 'v', 'h', 'X']\n",
    "unique_labels = np.unique(y)\n",
    "\n",
    "colors = plt.cm.get_cmap('viridis', len(np.unique(y_pred)))\n",
    "\n",
    "fig, ax = plt.subplots(figsize=(8,7))\n",
    "\n",
    "hsv_modified = cm.get_cmap('hsv', 500)\n",
    "newcmp = ListedColormap(hsv_modified(np.linspace(0.0, 0.3, 500)))\n",
    "\n",
    "for xi,yi,mi,ci in zip(X_tsne[:, 0], X_tsne[:, 1] , predicted_np, y_encoded):\n",
    "    ax.scatter(xi,yi,c=ci, marker=markers[mi], s=200, cmap=newcmp, vmin=min(y_encoded), vmax=max(y_encoded))\n",
    "\n",
    "ax.set_xticks([])\n",
    "ax.set_yticks([])\n",
    "\n",
    "plt.title('t-SNE with Shape by predicted label and Color by true label')\n",
    "plt.legend()\n",
    "plt.savefig('Figure4a.png', format='png', dpi=300)\n",
    "plt.show()"
   ]
  },
  {
   "cell_type": "code",
   "execution_count": 149,
   "id": "62c94511-e46e-48e4-9763-a9a0cf2f8f80",
   "metadata": {},
   "outputs": [
    {
     "data": {
      "text/plain": [
       "array([ -23.053167,  282.9892  ,  203.46754 ,   69.10038 ,   25.505396,\n",
       "         69.10038 ,  -29.780272,   34.033886,  134.79666 ,  184.8223  ,\n",
       "        164.704   ,   69.10038 ,  125.05413 ,  111.91496 ,  216.7599  ,\n",
       "         69.10038 ,  184.8223  ,   69.10038 ,  184.8223  ,   91.52832 ,\n",
       "        294.015   ,  251.31458 ,   84.74739 ,   73.317215,  133.90031 ,\n",
       "         73.317215,  208.11429 ,   73.317215,  208.11429 ,   73.317215,\n",
       "        133.90031 ,  300.9069  ,  215.23996 ,   73.317215,  208.11429 ,\n",
       "         73.317215,   25.374662,  -31.894033,  164.16348 ,   73.317215,\n",
       "       -118.01449 , -338.6583  , -129.489   , -385.80237 , -176.61035 ,\n",
       "       -221.23737 , -215.90645 , -211.43434 , -298.46198 , -420.63742 ,\n",
       "       -272.5924  , -259.4672  , -176.61035 ,  -69.32715 , -300.43472 ,\n",
       "       -215.90645 , -272.5924  , -215.90645 , -215.90645 , -120.288025],\n",
       "      dtype=float32)"
      ]
     },
     "execution_count": 149,
     "metadata": {},
     "output_type": "execute_result"
    }
   ],
   "source": [
    "X_tsne[:,0]"
   ]
  },
  {
   "cell_type": "code",
   "execution_count": null,
   "id": "505ad274-203c-479b-a6c7-6b1ae5fc047e",
   "metadata": {},
   "outputs": [],
   "source": []
  },
  {
   "cell_type": "code",
   "execution_count": 214,
   "id": "908e72ea-eb00-48bd-9712-13e2ef94a3ed",
   "metadata": {},
   "outputs": [
    {
     "data": {
      "text/plain": [
       "(61, 2)"
      ]
     },
     "execution_count": 214,
     "metadata": {},
     "output_type": "execute_result"
    }
   ],
   "source": [
    "X_tsne.shape"
   ]
  },
  {
   "cell_type": "code",
   "execution_count": 217,
   "id": "44a5c42f-d73d-4ca7-b0c6-2d2bd6b2a686",
   "metadata": {},
   "outputs": [
    {
     "data": {
      "text/plain": [
       "(61,)"
      ]
     },
     "execution_count": 217,
     "metadata": {},
     "output_type": "execute_result"
    }
   ],
   "source": [
    "predicted_np.shape"
   ]
  },
  {
   "cell_type": "code",
   "execution_count": 218,
   "id": "59d2f1c1-12ca-4acb-a1b7-33016eaf6d01",
   "metadata": {},
   "outputs": [
    {
     "data": {
      "text/plain": [
       "(61,)"
      ]
     },
     "execution_count": 218,
     "metadata": {},
     "output_type": "execute_result"
    }
   ],
   "source": [
    "y_encoded.shape"
   ]
  },
  {
   "cell_type": "code",
   "execution_count": null,
   "id": "8437e75c-eb61-4f09-8845-f8e96a33dae7",
   "metadata": {},
   "outputs": [],
   "source": []
  },
  {
   "cell_type": "code",
   "execution_count": 239,
   "id": "41ebb3a0-733d-49c3-a5f5-af9b180fb2c9",
   "metadata": {},
   "outputs": [],
   "source": [
    "combined = np.column_stack((X_tsne, label_encoder.inverse_transform(predicted.cpu().numpy()), y))"
   ]
  },
  {
   "cell_type": "code",
   "execution_count": 240,
   "id": "53167ab7-883d-4738-bf92-22d634d3dd83",
   "metadata": {},
   "outputs": [],
   "source": [
    "df = pd.DataFrame(combined, columns=['t-SNE 1', 't-SNE 2', 'Pred', 'True'])"
   ]
  },
  {
   "cell_type": "code",
   "execution_count": 241,
   "id": "3f86ae27-5b1e-4064-a8eb-f03ec57ae886",
   "metadata": {},
   "outputs": [
    {
     "data": {
      "text/html": [
       "<div>\n",
       "<style scoped>\n",
       "    .dataframe tbody tr th:only-of-type {\n",
       "        vertical-align: middle;\n",
       "    }\n",
       "\n",
       "    .dataframe tbody tr th {\n",
       "        vertical-align: top;\n",
       "    }\n",
       "\n",
       "    .dataframe thead th {\n",
       "        text-align: right;\n",
       "    }\n",
       "</style>\n",
       "<table border=\"1\" class=\"dataframe\">\n",
       "  <thead>\n",
       "    <tr style=\"text-align: right;\">\n",
       "      <th></th>\n",
       "      <th>t-SNE 1</th>\n",
       "      <th>t-SNE 2</th>\n",
       "      <th>Pred</th>\n",
       "      <th>True</th>\n",
       "    </tr>\n",
       "  </thead>\n",
       "  <tbody>\n",
       "    <tr>\n",
       "      <th>0</th>\n",
       "      <td>-240.770416</td>\n",
       "      <td>216.930008</td>\n",
       "      <td>Aspergillus flavus</td>\n",
       "      <td>Aspergillus flavus</td>\n",
       "    </tr>\n",
       "    <tr>\n",
       "      <th>1</th>\n",
       "      <td>-148.630661</td>\n",
       "      <td>219.965225</td>\n",
       "      <td>Aspergillus flavus</td>\n",
       "      <td>Aspergillus flavus</td>\n",
       "    </tr>\n",
       "    <tr>\n",
       "      <th>2</th>\n",
       "      <td>-355.465637</td>\n",
       "      <td>83.611336</td>\n",
       "      <td>Aspergillus flavus</td>\n",
       "      <td>Aspergillus flavus</td>\n",
       "    </tr>\n",
       "    <tr>\n",
       "      <th>3</th>\n",
       "      <td>-151.195602</td>\n",
       "      <td>20.783461</td>\n",
       "      <td>Aspergillus flavus</td>\n",
       "      <td>Aspergillus flavus</td>\n",
       "    </tr>\n",
       "    <tr>\n",
       "      <th>4</th>\n",
       "      <td>-215.806702</td>\n",
       "      <td>114.923683</td>\n",
       "      <td>Aspergillus flavus</td>\n",
       "      <td>Aspergillus flavus</td>\n",
       "    </tr>\n",
       "    <tr>\n",
       "      <th>...</th>\n",
       "      <td>...</td>\n",
       "      <td>...</td>\n",
       "      <td>...</td>\n",
       "      <td>...</td>\n",
       "    </tr>\n",
       "    <tr>\n",
       "      <th>56</th>\n",
       "      <td>-75.957947</td>\n",
       "      <td>-274.271881</td>\n",
       "      <td>Aspergillus nomiae</td>\n",
       "      <td>Aspergillus nomiae</td>\n",
       "    </tr>\n",
       "    <tr>\n",
       "      <th>57</th>\n",
       "      <td>-6.471653</td>\n",
       "      <td>-200.363113</td>\n",
       "      <td>Aspergillus nomiae</td>\n",
       "      <td>Aspergillus nomiae</td>\n",
       "    </tr>\n",
       "    <tr>\n",
       "      <th>58</th>\n",
       "      <td>-6.471653</td>\n",
       "      <td>-200.363113</td>\n",
       "      <td>Aspergillus nomiae</td>\n",
       "      <td>Aspergillus nomiae</td>\n",
       "    </tr>\n",
       "    <tr>\n",
       "      <th>59</th>\n",
       "      <td>7.215556</td>\n",
       "      <td>-304.199432</td>\n",
       "      <td>Aspergillus nomiae</td>\n",
       "      <td>Aspergillus nomiae</td>\n",
       "    </tr>\n",
       "    <tr>\n",
       "      <th>60</th>\n",
       "      <td>76.335251</td>\n",
       "      <td>353.705811</td>\n",
       "      <td>Aspergillus fumigatus</td>\n",
       "      <td>Aspergillus_fumigatus_test</td>\n",
       "    </tr>\n",
       "  </tbody>\n",
       "</table>\n",
       "<p>61 rows × 4 columns</p>\n",
       "</div>"
      ],
      "text/plain": [
       "       t-SNE 1     t-SNE 2                   Pred                        True\n",
       "0  -240.770416  216.930008     Aspergillus flavus          Aspergillus flavus\n",
       "1  -148.630661  219.965225     Aspergillus flavus          Aspergillus flavus\n",
       "2  -355.465637   83.611336     Aspergillus flavus          Aspergillus flavus\n",
       "3  -151.195602   20.783461     Aspergillus flavus          Aspergillus flavus\n",
       "4  -215.806702  114.923683     Aspergillus flavus          Aspergillus flavus\n",
       "..         ...         ...                    ...                         ...\n",
       "56  -75.957947 -274.271881     Aspergillus nomiae          Aspergillus nomiae\n",
       "57   -6.471653 -200.363113     Aspergillus nomiae          Aspergillus nomiae\n",
       "58   -6.471653 -200.363113     Aspergillus nomiae          Aspergillus nomiae\n",
       "59    7.215556 -304.199432     Aspergillus nomiae          Aspergillus nomiae\n",
       "60   76.335251  353.705811  Aspergillus fumigatus  Aspergillus_fumigatus_test\n",
       "\n",
       "[61 rows x 4 columns]"
      ]
     },
     "execution_count": 241,
     "metadata": {},
     "output_type": "execute_result"
    }
   ],
   "source": [
    "df"
   ]
  },
  {
   "cell_type": "code",
   "execution_count": 242,
   "id": "c4a6b24a-a1de-47d8-a705-36dd7a92b0be",
   "metadata": {},
   "outputs": [],
   "source": [
    "df.to_csv('fig4a_out.csv', index=False)"
   ]
  },
  {
   "cell_type": "code",
   "execution_count": 232,
   "id": "b02eeed2-d1ba-47d7-bab3-dd1475f89e60",
   "metadata": {},
   "outputs": [],
   "source": [
    "preds = label_encoder.inverse_transform(predicted.cpu().numpy())"
   ]
  },
  {
   "cell_type": "code",
   "execution_count": 237,
   "id": "d153f0ab-3b62-4ea6-ad7b-e9fa6f5c1d0c",
   "metadata": {},
   "outputs": [
    {
     "data": {
      "text/plain": [
       "(61,)"
      ]
     },
     "execution_count": 237,
     "metadata": {},
     "output_type": "execute_result"
    }
   ],
   "source": [
    "y.shape"
   ]
  },
  {
   "cell_type": "code",
   "execution_count": null,
   "id": "9bc35b76-c904-460f-ab1c-0db713acc6b2",
   "metadata": {},
   "outputs": [],
   "source": []
  }
 ],
 "metadata": {
  "kernelspec": {
   "display_name": "pytorch",
   "language": "python",
   "name": "pytorch"
  },
  "language_info": {
   "codemirror_mode": {
    "name": "ipython",
    "version": 3
   },
   "file_extension": ".py",
   "mimetype": "text/x-python",
   "name": "python",
   "nbconvert_exporter": "python",
   "pygments_lexer": "ipython3",
   "version": "3.11.5"
  }
 },
 "nbformat": 4,
 "nbformat_minor": 5
}

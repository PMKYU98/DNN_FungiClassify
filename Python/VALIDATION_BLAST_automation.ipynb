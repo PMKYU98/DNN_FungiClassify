{
 "cells": [
  {
   "cell_type": "code",
   "execution_count": 1,
   "id": "a79826cf-9445-4ad2-bb01-eb7dd6c9478a",
   "metadata": {},
   "outputs": [],
   "source": [
    "import os\n",
    "import subprocess\n",
    "from Bio import SeqIO\n",
    "from Bio.SeqRecord import SeqRecord"
   ]
  },
  {
   "cell_type": "code",
   "execution_count": 2,
   "id": "2f4295c5-f1ae-40e7-ad45-9cf9b683ddea",
   "metadata": {},
   "outputs": [],
   "source": [
    "def create_blast_db(genome_file, db_name):\n",
    "    cmd = ['makeblastdb', '-in', genome_file, '-dbtype', 'nucl', '-out', db_name]\n",
    "    subprocess.run(cmd, check=True)\n",
    "    print(f\"BLAST database {db_name} created.\")"
   ]
  },
  {
   "cell_type": "code",
   "execution_count": 3,
   "id": "64d25c1c-bbd0-47e6-abf5-4c8373b8418b",
   "metadata": {},
   "outputs": [],
   "source": [
    "def run_blast(query_file, db_name, result_file):\n",
    "    cmd = ['blastn', '-query', query_file, '-db', db_name, '-out', result_file, '-outfmt', '6']\n",
    "    subprocess.run(cmd, check=True)\n",
    "    print(f\"BLAST search completed. Results saved to {result_file}.\")"
   ]
  },
  {
   "cell_type": "code",
   "execution_count": 4,
   "id": "a32b4003-71ec-4ea7-bc9d-cca18176d46b",
   "metadata": {},
   "outputs": [],
   "source": [
    "def extract_matched_sequences(blast_result_file, genome_file, output_file):\n",
    "    matches = []\n",
    "    with open(blast_result_file, 'r') as blast_file:\n",
    "        for line in blast_file:\n",
    "            columns = line.strip().split('\\t')\n",
    "            query_id, subject_id, identity, alignment_length, mismatches, gap_opens, q_start, q_end, s_start, s_end, evalue, bit_score = columns\n",
    "            matches.append((subject_id, int(s_start), int(s_end)))\n",
    "\n",
    "    genome_records = SeqIO.to_dict(SeqIO.parse(genome_file, \"fasta\"))\n",
    "\n",
    "    extracted_sequences = []\n",
    "    for subject_id, start, end in matches:\n",
    "        if start < end:\n",
    "            sequence = genome_records[subject_id].seq[start-1:end]  # Convert to 0-based index\n",
    "        else:\n",
    "            sequence = genome_records[subject_id].seq[end-1:start].reverse_complement()\n",
    "        \n",
    "        record = SeqRecord(sequence, id=f\"{subject_id}_{start}_{end}\", description=\"\")\n",
    "        extracted_sequences.append(record)\n",
    "    \n",
    "    SeqIO.write(extracted_sequences, output_file, \"fasta\")\n",
    "    print(f\"Extracted sequences saved to {output_file}\")"
   ]
  },
  {
   "cell_type": "code",
   "execution_count": 5,
   "id": "5692b0db-db1a-4291-9e82-cdbb87702890",
   "metadata": {},
   "outputs": [],
   "source": [
    "def find_genome_file(gca_directory):\n",
    "    for file_name in os.listdir(gca_directory):\n",
    "        if file_name.endswith(\".fna\"):\n",
    "            return os.path.join(gca_directory, file_name)\n",
    "    raise FileNotFoundError(f\"No genome file found in directory {gca_directory}\")"
   ]
  },
  {
   "cell_type": "code",
   "execution_count": 6,
   "id": "a5692988-5b48-4eba-9992-f19b8d78b316",
   "metadata": {},
   "outputs": [],
   "source": [
    "def process_directory(query_ITS, query_benA, gca_directory, gca):\n",
    "    genome_file = find_genome_file(gca_directory)\n",
    "    db_name = os.path.join(gca_directory, \"db\")\n",
    "    result_ITS = os.path.join(gca_directory, \"results_ITS.txt\")\n",
    "    result_benA = os.path.join(gca_directory, \"results_benA.txt\")\n",
    "    output_ITS = os.path.join(gca_directory, \"sequences_ITS.fasta\")\n",
    "    output_benA = os.path.join(gca_directory, \"sequences_benA.fasta\")\n",
    "\n",
    "    create_blast_db(genome_file, db_name)\n",
    "    \n",
    "    run_blast(query_ITS, db_name, result_ITS)\n",
    "    run_blast(query_benA, db_name, result_benA)\n",
    "    \n",
    "    extract_matched_sequences(result_ITS, genome_file, output_ITS)\n",
    "    extract_matched_sequences(result_benA, genome_file, output_benA)"
   ]
  },
  {
   "cell_type": "code",
   "execution_count": 37,
   "id": "17aac45c-37bc-4186-986e-063befbe4a90",
   "metadata": {},
   "outputs": [
    {
     "name": "stdout",
     "output_type": "stream",
     "text": [
      "Processing directory: data/BLAST/GCA_040142845.1\n",
      "\n",
      "\n",
      "Building a new DB, current time: 10/18/2024 11:22:27\n",
      "New DB name:   /disk1/01.Myeongkyu/07.Fungi_elaboration_4mer/data/BLAST/GCA_040142845.1/db\n",
      "New DB title:  data/BLAST/GCA_040142845.1/GCA_040142845.1_UCR_Afum_ATCC42202_1.0_genomic.fna\n",
      "Sequence type: Nucleotide\n",
      "Keep MBits: T\n",
      "Maximum file size: 3000000000B\n",
      "Adding sequences from FASTA; added 15 sequences in 0.0674059 seconds.\n",
      "\n",
      "\n",
      "BLAST database data/BLAST/GCA_040142845.1/db created.\n",
      "BLAST search completed. Results saved to data/BLAST/GCA_040142845.1/results_ITS.txt.\n",
      "BLAST search completed. Results saved to data/BLAST/GCA_040142845.1/results_benA.txt.\n",
      "Extracted sequences saved to data/BLAST/GCA_040142845.1/sequences_ITS.fasta\n",
      "Extracted sequences saved to data/BLAST/GCA_040142845.1/sequences_benA.fasta\n"
     ]
    }
   ],
   "source": [
    "base_dir = \"data/BLAST/\"\n",
    "query_ITS = base_dir + \"query/\" + \"KC936269.1_Aspergillus_fumigatus_ITS.fasta\"\n",
    "query_benA = base_dir + \"query/\" + \"KJ831653.1_Aspergillus_fumigatus_benA.fasta\"\n",
    "gca = \"GCA_040142845.1\"\n",
    "\n",
    "gca_directory = os.path.join(base_dir, gca)\n",
    "print(f\"Processing directory: {gca_directory}\")\n",
    "process_directory(query_ITS, query_benA, gca_directory, gca)"
   ]
  },
  {
   "cell_type": "code",
   "execution_count": null,
   "id": "89ad4e6b-7140-40d5-8e85-423e3312122c",
   "metadata": {},
   "outputs": [],
   "source": []
  }
 ],
 "metadata": {
  "kernelspec": {
   "display_name": "Python 3 (ipykernel)",
   "language": "python",
   "name": "python3"
  },
  "language_info": {
   "codemirror_mode": {
    "name": "ipython",
    "version": 3
   },
   "file_extension": ".py",
   "mimetype": "text/x-python",
   "name": "python",
   "nbconvert_exporter": "python",
   "pygments_lexer": "ipython3",
   "version": "3.11.5"
  }
 },
 "nbformat": 4,
 "nbformat_minor": 5
}

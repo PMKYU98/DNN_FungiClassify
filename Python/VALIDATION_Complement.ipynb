{
 "cells": [
  {
   "cell_type": "code",
   "execution_count": 1,
   "id": "c8b02765-8d6b-4e97-acfd-ebee4ef61fd7",
   "metadata": {},
   "outputs": [],
   "source": [
    "def complement_dna_sequence(sequence):\n",
    "    complement = {\n",
    "        'A': 'T',\n",
    "        'T': 'A',\n",
    "        'C': 'G',\n",
    "        'G': 'C'\n",
    "    }\n",
    "\n",
    "    complement_sequence = ''.join(complement[base] for base in sequence)\n",
    "\n",
    "    return complement_sequence"
   ]
  },
  {
   "cell_type": "code",
   "execution_count": 7,
   "id": "0d4c8729-8fdb-42f6-8160-f9a9a49afbed",
   "metadata": {},
   "outputs": [],
   "source": [
    "seq = \"\"\"ATGTTGTGCCTAAAAACCCCCCCTGTCCCCTTTAGGAGACGCGTCGATTCGGGCTCTCCC\n",
    "TGGATAGAAGAACCCCACTTGTTCCTCAAGAATGCAGCTTAGCTAACTCgttttttttta\n",
    "ttctaCAGGTTCACCTTCAGACCGGTCAGTGTGTAAGTACTGCCCGCCGTGGGTGAAGAA\n",
    "GCATAGGGATGGTGTTTGCATTGAGCAGAAGCTAAACTTGATTCTTGGTGACAGGGTAAC\n",
    "CAAATTGGTGCCGCTTTCTGGTATGTCTTGACCTCAAAGCTTGGATGACGGGTGATTGGG\n",
    "ATCTCTCATCTTAGCAGGCTACCTCCATGGGTTCAGCCTCACTGTCATGGGTATCAGCTA\n",
    "ACAAATCTACAGGCAGACCATCTCTGGTGAGCATGGCCTTGACGGCTCTGGCCAGTAAGT\n",
    "TCGACCTATATCCTCCCAATTGAGAAAGCGGCGGAAACACGGAAAACAAGGAAGAAGCGG\n",
    "ACGCGTGTCTGATGGGAAATAATAGCTACAATGGCTCCTCCGATCTCCAGCTGGAGCGTA\n",
    "TGAACGTCTATTTCAACGAGGTGTGTGGATGAAACTCTTGATTTATACTATTTCGGCAAC\n",
    "ATCTCACGATCTGACTCGCTACTAGGCCAACGGTGACAAATATGTTCCTCGTGCCGTTCT\n",
    "GGTCGATCTCGAGCCTGGTACCATGGACGCTGTCCGTGCCGGTCCCTTCGGCGAGCTATT\n",
    "CCGTCCCGACAACTTCGTCTTCGGCCAGTCCGGTGCTGGTAACAACTGG\"\"\".upper().replace('\\n','')"
   ]
  },
  {
   "cell_type": "code",
   "execution_count": 8,
   "id": "4ace331a-4d8f-4f9f-83b9-fe1e81c10e18",
   "metadata": {},
   "outputs": [
    {
     "data": {
      "text/plain": [
       "'TACAACACGGATTTTTGGGGGGGACAGGGGAAATCCTCTGCGCAGCTAAGCCCGAGAGGGACCTATCTTCTTGGGGTGAACAAGGAGTTCTTACGTCGAATCGATTGAGCAAAAAAAAATAAGATGTCCAAGTGGAAGTCTGGCCAGTCACACATTCATGACGGGCGGCACCCACTTCTTCGTATCCCTACCACAAACGTAACTCGTCTTCGATTTGAACTAAGAACCACTGTCCCATTGGTTTAACCACGGCGAAAGACCATACAGAACTGGAGTTTCGAACCTACTGCCCACTAACCCTAGAGAGTAGAATCGTCCGATGGAGGTACCCAAGTCGGAGTGACAGTACCCATAGTCGATTGTTTAGATGTCCGTCTGGTAGAGACCACTCGTACCGGAACTGCCGAGACCGGTCATTCAAGCTGGATATAGGAGGGTTAACTCTTTCGCCGCCTTTGTGCCTTTTGTTCCTTCTTCGCCTGCGCACAGACTACCCTTTATTATCGATGTTACCGAGGAGGCTAGAGGTCGACCTCGCATACTTGCAGATAAAGTTGCTCCACACACCTACTTTGAGAACTAAATATGATAAAGCCGTTGTAGAGTGCTAGACTGAGCGATGATCCGGTTGCCACTGTTTATACAAGGAGCACGGCAAGACCAGCTAGAGCTCGGACCATGGTACCTGCGACAGGCACGGCCAGGGAAGCCGCTCGATAAGGCAGGGCTGTTGAAGCAGAAGCCGGTCAGGCCACGACCATTGTTGACC'"
      ]
     },
     "execution_count": 8,
     "metadata": {},
     "output_type": "execute_result"
    }
   ],
   "source": [
    "complement_dna_sequence(seq)"
   ]
  },
  {
   "cell_type": "code",
   "execution_count": null,
   "id": "8f54ed8f-5c63-4503-9b9d-69cacdb21ba1",
   "metadata": {},
   "outputs": [],
   "source": []
  }
 ],
 "metadata": {
  "kernelspec": {
   "display_name": "Python 3 (ipykernel)",
   "language": "python",
   "name": "python3"
  },
  "language_info": {
   "codemirror_mode": {
    "name": "ipython",
    "version": 3
   },
   "file_extension": ".py",
   "mimetype": "text/x-python",
   "name": "python",
   "nbconvert_exporter": "python",
   "pygments_lexer": "ipython3",
   "version": "3.11.5"
  }
 },
 "nbformat": 4,
 "nbformat_minor": 5
}
